{
  "nbformat": 4,
  "nbformat_minor": 0,
  "metadata": {
    "colab": {
      "name": "Desafio-1-2021",
      "provenance": [],
      "authorship_tag": "ABX9TyPz+HL28Jy/lez9nY03s34V",
      "include_colab_link": true
    },
    "kernelspec": {
      "name": "python3",
      "display_name": "Python 3"
    },
    "language_info": {
      "name": "python"
    }
  },
  "cells": [
    {
      "cell_type": "markdown",
      "metadata": {
        "id": "view-in-github",
        "colab_type": "text"
      },
      "source": [
        "<a href=\"https://colab.research.google.com/github/Simone-Lemes/Maratona-Behind-the-Code-2020/blob/main/Desafio_1_2021.ipynb\" target=\"_parent\"><img src=\"https://colab.research.google.com/assets/colab-badge.svg\" alt=\"Open In Colab\"/></a>"
      ]
    },
    {
      "cell_type": "markdown",
      "metadata": {
        "id": "J0BY8NAIN1H-"
      },
      "source": [
        "O desafio consiste na elaboração de um modelo de Machine Learning para predição de risco de empréstimo, baseado em informações bancárias. Você deverá explorar os dados, tratá-los, e construir o modelo para predição.\n",
        "\n",
        "O modelo deve receber como entrada os seguintes dados:\n",
        "\n",
        "[\n",
        "  \"ID\",\n",
        "  \"CHECKING_BALANCE\",\n",
        "  \"PAYMENT_TERM\",\n",
        "  \"CREDIT_HISTORY\",\n",
        "  \"LOAN_PURPOSE\",\n",
        "  \"LOAN_AMOUNT\",\n",
        "  \"EXISTING_SAVINGS\",\n",
        "  \"EMPLOYMENT_DURATION\",\n",
        "  \"INSTALLMENT_PERCENT\",\n",
        "  \"SEX\",\n",
        "  \"OTHERS_ON_LOAN\",\n",
        "  \"CURRENT_RESIDENCE_DURATION\",\n",
        "  \"PROPERTY\",\n",
        "  \"AGE\",\n",
        "  \"INSTALLMENT_PLANS\",\n",
        "  \"HOUSING\",\n",
        "  \"EXISTING_CREDITS_COUNT\",\n",
        "  \"JOB_TYPE\",\n",
        "  \"DEPENDENTS\",\n",
        "  \"TELEPHONE\",\n",
        "  \"FOREIGN_WORKER\"\n",
        "]"
      ]
    },
    {
      "cell_type": "code",
      "metadata": {
        "id": "36ah4fFEn0tl"
      },
      "source": [
        "# Em seguida iremos importar diversas bibliotecas que serão utilizadas:\n",
        "\n",
        "# Pacote para trabalhar com JSON\n",
        "import json\n",
        "\n",
        "# Pacote para realizar requisições HTTP\n",
        "import requests\n",
        "\n",
        "# Pacote para exploração e análise de dados\n",
        "import pandas as pd\n",
        "\n",
        "# Pacote com métodos numéricos e representações matriciais\n",
        "import numpy as np\n",
        "\n",
        "# Pacote para construção de modelo baseado na técnica Gradient Boosting\n",
        "import xgboost as xgb\n",
        "\n",
        "# Pacotes do scikit-learn para pré-processamento de dados\n",
        "# \"SimpleImputer\" é uma transformação para preencher valores faltantes em conjuntos de dados\n",
        "from sklearn.impute import SimpleImputer\n",
        "\n",
        "# Pacotes do scikit-learn para treinamento de modelos e construção de pipelines\n",
        "# Método para separação de conjunto de dados em amostras de treino e teste\n",
        "from sklearn.model_selection import train_test_split\n",
        "# Método para criação de modelos baseados em árvores de decisão\n",
        "from sklearn.tree import DecisionTreeClassifier\n",
        "from sklearn.tree import DecisionTreeRegressor\n",
        "from sklearn.ensemble import RandomForestClassifier\n",
        "from sklearn.ensemble import GradientBoostingClassifier\n",
        "\n",
        "# Classe para a criação de uma pipeline de machine-learning\n",
        "from sklearn.pipeline import Pipeline\n",
        "\n",
        "# Pacotes do scikit-learn para avaliação de modelos\n",
        "# Métodos para validação cruzada do modelo criado\n",
        "from sklearn.model_selection import KFold, cross_validate\n",
        "from sklearn.model_selection import train_test_split\n",
        "from sklearn.linear_model import LinearRegression\n",
        "\n",
        "\n",
        "import matplotlib.pyplot as plt\n",
        "import seaborn as sns"
      ],
      "execution_count": 1,
      "outputs": []
    },
    {
      "cell_type": "code",
      "metadata": {
        "colab": {
          "base_uri": "https://localhost:8080/",
          "height": 419
        },
        "id": "0KdOKBTlp7DC",
        "outputId": "85eba39d-293e-4294-98cc-0bf06344dcd1"
      },
      "source": [
        "pd.read_csv('/content/LOANS.csv') "
      ],
      "execution_count": 2,
      "outputs": [
        {
          "output_type": "execute_result",
          "data": {
            "text/html": [
              "<div>\n",
              "<style scoped>\n",
              "    .dataframe tbody tr th:only-of-type {\n",
              "        vertical-align: middle;\n",
              "    }\n",
              "\n",
              "    .dataframe tbody tr th {\n",
              "        vertical-align: top;\n",
              "    }\n",
              "\n",
              "    .dataframe thead th {\n",
              "        text-align: right;\n",
              "    }\n",
              "</style>\n",
              "<table border=\"1\" class=\"dataframe\">\n",
              "  <thead>\n",
              "    <tr style=\"text-align: right;\">\n",
              "      <th></th>\n",
              "      <th>ID</th>\n",
              "      <th>PAYMENT_TERM</th>\n",
              "      <th>INSTALLMENT_PLANS</th>\n",
              "      <th>INSTALLMENT_PERCENT</th>\n",
              "      <th>LOAN_PURPOSE</th>\n",
              "      <th>LOAN_AMOUNT</th>\n",
              "      <th>OTHERS_ON_LOAN</th>\n",
              "      <th>ALLOW</th>\n",
              "    </tr>\n",
              "  </thead>\n",
              "  <tbody>\n",
              "    <tr>\n",
              "      <th>0</th>\n",
              "      <td>610339</td>\n",
              "      <td>713.0</td>\n",
              "      <td>STORES</td>\n",
              "      <td>3.0</td>\n",
              "      <td>CAR_USED</td>\n",
              "      <td>3103.0</td>\n",
              "      <td>NONE</td>\n",
              "      <td>1</td>\n",
              "    </tr>\n",
              "    <tr>\n",
              "      <th>1</th>\n",
              "      <td>109167</td>\n",
              "      <td>341.0</td>\n",
              "      <td>STORES</td>\n",
              "      <td>1.0</td>\n",
              "      <td>CAR_NEW</td>\n",
              "      <td>716.0</td>\n",
              "      <td>NONE</td>\n",
              "      <td>1</td>\n",
              "    </tr>\n",
              "    <tr>\n",
              "      <th>2</th>\n",
              "      <td>823322</td>\n",
              "      <td>868.0</td>\n",
              "      <td>NONE</td>\n",
              "      <td>4.0</td>\n",
              "      <td>APPLIANCES</td>\n",
              "      <td>4333.0</td>\n",
              "      <td>NONE</td>\n",
              "      <td>1</td>\n",
              "    </tr>\n",
              "    <tr>\n",
              "      <th>3</th>\n",
              "      <td>322224</td>\n",
              "      <td>310.0</td>\n",
              "      <td>STORES</td>\n",
              "      <td>2.0</td>\n",
              "      <td>FURNITURE</td>\n",
              "      <td>250.0</td>\n",
              "      <td>NONE</td>\n",
              "      <td>1</td>\n",
              "    </tr>\n",
              "    <tr>\n",
              "      <th>4</th>\n",
              "      <td>912693</td>\n",
              "      <td>620.0</td>\n",
              "      <td>NONE</td>\n",
              "      <td>2.0</td>\n",
              "      <td>CAR_USED</td>\n",
              "      <td>2454.0</td>\n",
              "      <td>NONE</td>\n",
              "      <td>0</td>\n",
              "    </tr>\n",
              "    <tr>\n",
              "      <th>...</th>\n",
              "      <td>...</td>\n",
              "      <td>...</td>\n",
              "      <td>...</td>\n",
              "      <td>...</td>\n",
              "      <td>...</td>\n",
              "      <td>...</td>\n",
              "      <td>...</td>\n",
              "      <td>...</td>\n",
              "    </tr>\n",
              "    <tr>\n",
              "      <th>3994</th>\n",
              "      <td>636739</td>\n",
              "      <td>450.0</td>\n",
              "      <td>BANK</td>\n",
              "      <td>3.0</td>\n",
              "      <td>CAR_NEW</td>\n",
              "      <td>3007.0</td>\n",
              "      <td>CO-APPLICANT</td>\n",
              "      <td>0</td>\n",
              "    </tr>\n",
              "    <tr>\n",
              "      <th>3995</th>\n",
              "      <td>919733</td>\n",
              "      <td>510.0</td>\n",
              "      <td>NONE</td>\n",
              "      <td>4.0</td>\n",
              "      <td>VACATION</td>\n",
              "      <td>4191.0</td>\n",
              "      <td>GUARANTOR</td>\n",
              "      <td>1</td>\n",
              "    </tr>\n",
              "    <tr>\n",
              "      <th>3996</th>\n",
              "      <td>115839</td>\n",
              "      <td>124.0</td>\n",
              "      <td>STORES</td>\n",
              "      <td>1.0</td>\n",
              "      <td>FURNITURE</td>\n",
              "      <td>250.0</td>\n",
              "      <td>NONE</td>\n",
              "      <td>1</td>\n",
              "    </tr>\n",
              "    <tr>\n",
              "      <th>3997</th>\n",
              "      <td>1128684</td>\n",
              "      <td>961.0</td>\n",
              "      <td>BANK</td>\n",
              "      <td>3.0</td>\n",
              "      <td>BUSINESS</td>\n",
              "      <td>5172.0</td>\n",
              "      <td>NONE</td>\n",
              "      <td>1</td>\n",
              "    </tr>\n",
              "    <tr>\n",
              "      <th>3998</th>\n",
              "      <td>5547</td>\n",
              "      <td>1020.0</td>\n",
              "      <td>NONE</td>\n",
              "      <td>4.0</td>\n",
              "      <td>FURNITURE</td>\n",
              "      <td>6063.0</td>\n",
              "      <td>NONE</td>\n",
              "      <td>1</td>\n",
              "    </tr>\n",
              "  </tbody>\n",
              "</table>\n",
              "<p>3999 rows × 8 columns</p>\n",
              "</div>"
            ],
            "text/plain": [
              "           ID  PAYMENT_TERM  ... OTHERS_ON_LOAN  ALLOW\n",
              "0      610339         713.0  ...           NONE      1\n",
              "1      109167         341.0  ...           NONE      1\n",
              "2      823322         868.0  ...           NONE      1\n",
              "3      322224         310.0  ...           NONE      1\n",
              "4      912693         620.0  ...           NONE      0\n",
              "...       ...           ...  ...            ...    ...\n",
              "3994   636739         450.0  ...   CO-APPLICANT      0\n",
              "3995   919733         510.0  ...      GUARANTOR      1\n",
              "3996   115839         124.0  ...           NONE      1\n",
              "3997  1128684         961.0  ...           NONE      1\n",
              "3998     5547        1020.0  ...           NONE      1\n",
              "\n",
              "[3999 rows x 8 columns]"
            ]
          },
          "metadata": {},
          "execution_count": 2
        }
      ]
    },
    {
      "cell_type": "markdown",
      "metadata": {
        "id": "TlCRmjy0zAKr"
      },
      "source": [
        "PAYMENT TERM  =  PRAZO DE PAGAMENTO\n",
        "\n",
        "INSTALLMENT PLANS  =  PLANOS DE PARCELAMENTO\n",
        "\n",
        "INSTALLMENT PERCENT  =  PARCELAMENTO PERCENTUAL\n",
        "\n",
        "LOAN PURPOSE = PROPÓSITO DE EMPRÉSTIMO\n",
        "\n",
        "LOAN AMOUNT = VALOR DO EMPRÉSTIMO\n",
        "\n",
        "OTHERS ON LOAN = OUTROS EMPRESTADOS\n",
        "\n",
        "ALLOW = PERMITIR\n",
        "\n",
        "STORES = LOJAS\n",
        "\n",
        "CAR USED = CARRO USADO\n",
        "\n",
        "CAR_NEW = CARRO NOVO\n",
        "\n",
        "CO-APPLICANT\t= CO-CANDIDATO\n",
        "\n",
        "GUARANTOR = AVALISTA\n",
        "\n",
        "\n",
        "https://minerandodados.com.br/analise-de-dados-com-python-usando-pandas/"
      ]
    },
    {
      "cell_type": "code",
      "metadata": {
        "id": "Ki8gdhybqtTM"
      },
      "source": [
        "loans = pd.read_csv('/content/LOANS.csv')"
      ],
      "execution_count": 3,
      "outputs": []
    },
    {
      "cell_type": "code",
      "metadata": {
        "colab": {
          "base_uri": "https://localhost:8080/",
          "height": 204
        },
        "id": "cH-Zs12zsB7C",
        "outputId": "ce4cdd91-f5d9-415f-ed65-15e5ff06a0e8"
      },
      "source": [
        "loans.head()"
      ],
      "execution_count": 4,
      "outputs": [
        {
          "output_type": "execute_result",
          "data": {
            "text/html": [
              "<div>\n",
              "<style scoped>\n",
              "    .dataframe tbody tr th:only-of-type {\n",
              "        vertical-align: middle;\n",
              "    }\n",
              "\n",
              "    .dataframe tbody tr th {\n",
              "        vertical-align: top;\n",
              "    }\n",
              "\n",
              "    .dataframe thead th {\n",
              "        text-align: right;\n",
              "    }\n",
              "</style>\n",
              "<table border=\"1\" class=\"dataframe\">\n",
              "  <thead>\n",
              "    <tr style=\"text-align: right;\">\n",
              "      <th></th>\n",
              "      <th>ID</th>\n",
              "      <th>PAYMENT_TERM</th>\n",
              "      <th>INSTALLMENT_PLANS</th>\n",
              "      <th>INSTALLMENT_PERCENT</th>\n",
              "      <th>LOAN_PURPOSE</th>\n",
              "      <th>LOAN_AMOUNT</th>\n",
              "      <th>OTHERS_ON_LOAN</th>\n",
              "      <th>ALLOW</th>\n",
              "    </tr>\n",
              "  </thead>\n",
              "  <tbody>\n",
              "    <tr>\n",
              "      <th>0</th>\n",
              "      <td>610339</td>\n",
              "      <td>713.0</td>\n",
              "      <td>STORES</td>\n",
              "      <td>3.0</td>\n",
              "      <td>CAR_USED</td>\n",
              "      <td>3103.0</td>\n",
              "      <td>NONE</td>\n",
              "      <td>1</td>\n",
              "    </tr>\n",
              "    <tr>\n",
              "      <th>1</th>\n",
              "      <td>109167</td>\n",
              "      <td>341.0</td>\n",
              "      <td>STORES</td>\n",
              "      <td>1.0</td>\n",
              "      <td>CAR_NEW</td>\n",
              "      <td>716.0</td>\n",
              "      <td>NONE</td>\n",
              "      <td>1</td>\n",
              "    </tr>\n",
              "    <tr>\n",
              "      <th>2</th>\n",
              "      <td>823322</td>\n",
              "      <td>868.0</td>\n",
              "      <td>NONE</td>\n",
              "      <td>4.0</td>\n",
              "      <td>APPLIANCES</td>\n",
              "      <td>4333.0</td>\n",
              "      <td>NONE</td>\n",
              "      <td>1</td>\n",
              "    </tr>\n",
              "    <tr>\n",
              "      <th>3</th>\n",
              "      <td>322224</td>\n",
              "      <td>310.0</td>\n",
              "      <td>STORES</td>\n",
              "      <td>2.0</td>\n",
              "      <td>FURNITURE</td>\n",
              "      <td>250.0</td>\n",
              "      <td>NONE</td>\n",
              "      <td>1</td>\n",
              "    </tr>\n",
              "    <tr>\n",
              "      <th>4</th>\n",
              "      <td>912693</td>\n",
              "      <td>620.0</td>\n",
              "      <td>NONE</td>\n",
              "      <td>2.0</td>\n",
              "      <td>CAR_USED</td>\n",
              "      <td>2454.0</td>\n",
              "      <td>NONE</td>\n",
              "      <td>0</td>\n",
              "    </tr>\n",
              "  </tbody>\n",
              "</table>\n",
              "</div>"
            ],
            "text/plain": [
              "       ID  PAYMENT_TERM INSTALLMENT_PLANS  ...  LOAN_AMOUNT OTHERS_ON_LOAN  ALLOW\n",
              "0  610339         713.0            STORES  ...       3103.0           NONE      1\n",
              "1  109167         341.0            STORES  ...        716.0           NONE      1\n",
              "2  823322         868.0              NONE  ...       4333.0           NONE      1\n",
              "3  322224         310.0            STORES  ...        250.0           NONE      1\n",
              "4  912693         620.0              NONE  ...       2454.0           NONE      0\n",
              "\n",
              "[5 rows x 8 columns]"
            ]
          },
          "metadata": {},
          "execution_count": 4
        }
      ]
    },
    {
      "cell_type": "code",
      "metadata": {
        "colab": {
          "base_uri": "https://localhost:8080/"
        },
        "id": "z7Y6kWUM1EyD",
        "outputId": "eb10f1b0-b4b8-49a8-beed-1419a633fbfa"
      },
      "source": [
        "loans.info()"
      ],
      "execution_count": 5,
      "outputs": [
        {
          "output_type": "stream",
          "name": "stdout",
          "text": [
            "<class 'pandas.core.frame.DataFrame'>\n",
            "RangeIndex: 3999 entries, 0 to 3998\n",
            "Data columns (total 8 columns):\n",
            " #   Column               Non-Null Count  Dtype  \n",
            "---  ------               --------------  -----  \n",
            " 0   ID                   3999 non-null   int64  \n",
            " 1   PAYMENT_TERM         3975 non-null   float64\n",
            " 2   INSTALLMENT_PLANS    3978 non-null   object \n",
            " 3   INSTALLMENT_PERCENT  3974 non-null   float64\n",
            " 4   LOAN_PURPOSE         3979 non-null   object \n",
            " 5   LOAN_AMOUNT          3981 non-null   float64\n",
            " 6   OTHERS_ON_LOAN       3977 non-null   object \n",
            " 7   ALLOW                3999 non-null   int64  \n",
            "dtypes: float64(3), int64(2), object(3)\n",
            "memory usage: 250.1+ KB\n"
          ]
        }
      ]
    },
    {
      "cell_type": "code",
      "metadata": {
        "colab": {
          "base_uri": "https://localhost:8080/",
          "height": 297
        },
        "id": "rd1fSY2LsM2g",
        "outputId": "da885614-47f3-4cbb-dd5a-02e85b655600"
      },
      "source": [
        "loans.describe()"
      ],
      "execution_count": 6,
      "outputs": [
        {
          "output_type": "execute_result",
          "data": {
            "text/html": [
              "<div>\n",
              "<style scoped>\n",
              "    .dataframe tbody tr th:only-of-type {\n",
              "        vertical-align: middle;\n",
              "    }\n",
              "\n",
              "    .dataframe tbody tr th {\n",
              "        vertical-align: top;\n",
              "    }\n",
              "\n",
              "    .dataframe thead th {\n",
              "        text-align: right;\n",
              "    }\n",
              "</style>\n",
              "<table border=\"1\" class=\"dataframe\">\n",
              "  <thead>\n",
              "    <tr style=\"text-align: right;\">\n",
              "      <th></th>\n",
              "      <th>ID</th>\n",
              "      <th>PAYMENT_TERM</th>\n",
              "      <th>INSTALLMENT_PERCENT</th>\n",
              "      <th>LOAN_AMOUNT</th>\n",
              "      <th>ALLOW</th>\n",
              "    </tr>\n",
              "  </thead>\n",
              "  <tbody>\n",
              "    <tr>\n",
              "      <th>count</th>\n",
              "      <td>3.999000e+03</td>\n",
              "      <td>3975.000000</td>\n",
              "      <td>3974.000000</td>\n",
              "      <td>3981.000000</td>\n",
              "      <td>3999.000000</td>\n",
              "    </tr>\n",
              "    <tr>\n",
              "      <th>mean</th>\n",
              "      <td>6.603562e+05</td>\n",
              "      <td>653.796981</td>\n",
              "      <td>2.981379</td>\n",
              "      <td>3479.168802</td>\n",
              "      <td>0.664166</td>\n",
              "    </tr>\n",
              "    <tr>\n",
              "      <th>std</th>\n",
              "      <td>3.728332e+05</td>\n",
              "      <td>338.723239</td>\n",
              "      <td>1.121448</td>\n",
              "      <td>2489.961917</td>\n",
              "      <td>0.472340</td>\n",
              "    </tr>\n",
              "    <tr>\n",
              "      <th>min</th>\n",
              "      <td>9.800000e+01</td>\n",
              "      <td>120.000000</td>\n",
              "      <td>1.000000</td>\n",
              "      <td>250.000000</td>\n",
              "      <td>0.000000</td>\n",
              "    </tr>\n",
              "    <tr>\n",
              "      <th>25%</th>\n",
              "      <td>3.418460e+05</td>\n",
              "      <td>390.000000</td>\n",
              "      <td>2.000000</td>\n",
              "      <td>1330.000000</td>\n",
              "      <td>0.000000</td>\n",
              "    </tr>\n",
              "    <tr>\n",
              "      <th>50%</th>\n",
              "      <td>6.670610e+05</td>\n",
              "      <td>651.000000</td>\n",
              "      <td>3.000000</td>\n",
              "      <td>3237.000000</td>\n",
              "      <td>1.000000</td>\n",
              "    </tr>\n",
              "    <tr>\n",
              "      <th>75%</th>\n",
              "      <td>9.778745e+05</td>\n",
              "      <td>899.000000</td>\n",
              "      <td>4.000000</td>\n",
              "      <td>5334.000000</td>\n",
              "      <td>1.000000</td>\n",
              "    </tr>\n",
              "    <tr>\n",
              "      <th>max</th>\n",
              "      <td>1.320082e+06</td>\n",
              "      <td>1984.000000</td>\n",
              "      <td>6.000000</td>\n",
              "      <td>11676.000000</td>\n",
              "      <td>1.000000</td>\n",
              "    </tr>\n",
              "  </tbody>\n",
              "</table>\n",
              "</div>"
            ],
            "text/plain": [
              "                 ID  PAYMENT_TERM  ...   LOAN_AMOUNT        ALLOW\n",
              "count  3.999000e+03   3975.000000  ...   3981.000000  3999.000000\n",
              "mean   6.603562e+05    653.796981  ...   3479.168802     0.664166\n",
              "std    3.728332e+05    338.723239  ...   2489.961917     0.472340\n",
              "min    9.800000e+01    120.000000  ...    250.000000     0.000000\n",
              "25%    3.418460e+05    390.000000  ...   1330.000000     0.000000\n",
              "50%    6.670610e+05    651.000000  ...   3237.000000     1.000000\n",
              "75%    9.778745e+05    899.000000  ...   5334.000000     1.000000\n",
              "max    1.320082e+06   1984.000000  ...  11676.000000     1.000000\n",
              "\n",
              "[8 rows x 5 columns]"
            ]
          },
          "metadata": {},
          "execution_count": 6
        }
      ]
    },
    {
      "cell_type": "markdown",
      "metadata": {
        "id": "0c95LkGw43lO"
      },
      "source": [
        "Limpeza de dados"
      ]
    },
    {
      "cell_type": "code",
      "metadata": {
        "colab": {
          "base_uri": "https://localhost:8080/"
        },
        "id": "ZeQXQGi03hdR",
        "outputId": "6d2af9f0-6988-46cf-d8ba-f95bfe7bcf24"
      },
      "source": [
        "loans.isnull().sum()"
      ],
      "execution_count": 7,
      "outputs": [
        {
          "output_type": "execute_result",
          "data": {
            "text/plain": [
              "ID                      0\n",
              "PAYMENT_TERM           24\n",
              "INSTALLMENT_PLANS      21\n",
              "INSTALLMENT_PERCENT    25\n",
              "LOAN_PURPOSE           20\n",
              "LOAN_AMOUNT            18\n",
              "OTHERS_ON_LOAN         22\n",
              "ALLOW                   0\n",
              "dtype: int64"
            ]
          },
          "metadata": {},
          "execution_count": 7
        }
      ]
    },
    {
      "cell_type": "code",
      "metadata": {
        "id": "FRKzHC-X4doY"
      },
      "source": [
        "loans.fillna(0,inplace = True)"
      ],
      "execution_count": 8,
      "outputs": []
    },
    {
      "cell_type": "code",
      "metadata": {
        "colab": {
          "base_uri": "https://localhost:8080/",
          "height": 204
        },
        "id": "SyGggUn74m_m",
        "outputId": "faecd128-da00-4794-a14c-44347712c4f6"
      },
      "source": [
        "loans.head()"
      ],
      "execution_count": 9,
      "outputs": [
        {
          "output_type": "execute_result",
          "data": {
            "text/html": [
              "<div>\n",
              "<style scoped>\n",
              "    .dataframe tbody tr th:only-of-type {\n",
              "        vertical-align: middle;\n",
              "    }\n",
              "\n",
              "    .dataframe tbody tr th {\n",
              "        vertical-align: top;\n",
              "    }\n",
              "\n",
              "    .dataframe thead th {\n",
              "        text-align: right;\n",
              "    }\n",
              "</style>\n",
              "<table border=\"1\" class=\"dataframe\">\n",
              "  <thead>\n",
              "    <tr style=\"text-align: right;\">\n",
              "      <th></th>\n",
              "      <th>ID</th>\n",
              "      <th>PAYMENT_TERM</th>\n",
              "      <th>INSTALLMENT_PLANS</th>\n",
              "      <th>INSTALLMENT_PERCENT</th>\n",
              "      <th>LOAN_PURPOSE</th>\n",
              "      <th>LOAN_AMOUNT</th>\n",
              "      <th>OTHERS_ON_LOAN</th>\n",
              "      <th>ALLOW</th>\n",
              "    </tr>\n",
              "  </thead>\n",
              "  <tbody>\n",
              "    <tr>\n",
              "      <th>0</th>\n",
              "      <td>610339</td>\n",
              "      <td>713.0</td>\n",
              "      <td>STORES</td>\n",
              "      <td>3.0</td>\n",
              "      <td>CAR_USED</td>\n",
              "      <td>3103.0</td>\n",
              "      <td>NONE</td>\n",
              "      <td>1</td>\n",
              "    </tr>\n",
              "    <tr>\n",
              "      <th>1</th>\n",
              "      <td>109167</td>\n",
              "      <td>341.0</td>\n",
              "      <td>STORES</td>\n",
              "      <td>1.0</td>\n",
              "      <td>CAR_NEW</td>\n",
              "      <td>716.0</td>\n",
              "      <td>NONE</td>\n",
              "      <td>1</td>\n",
              "    </tr>\n",
              "    <tr>\n",
              "      <th>2</th>\n",
              "      <td>823322</td>\n",
              "      <td>868.0</td>\n",
              "      <td>NONE</td>\n",
              "      <td>4.0</td>\n",
              "      <td>APPLIANCES</td>\n",
              "      <td>4333.0</td>\n",
              "      <td>NONE</td>\n",
              "      <td>1</td>\n",
              "    </tr>\n",
              "    <tr>\n",
              "      <th>3</th>\n",
              "      <td>322224</td>\n",
              "      <td>310.0</td>\n",
              "      <td>STORES</td>\n",
              "      <td>2.0</td>\n",
              "      <td>FURNITURE</td>\n",
              "      <td>250.0</td>\n",
              "      <td>NONE</td>\n",
              "      <td>1</td>\n",
              "    </tr>\n",
              "    <tr>\n",
              "      <th>4</th>\n",
              "      <td>912693</td>\n",
              "      <td>620.0</td>\n",
              "      <td>NONE</td>\n",
              "      <td>2.0</td>\n",
              "      <td>CAR_USED</td>\n",
              "      <td>2454.0</td>\n",
              "      <td>NONE</td>\n",
              "      <td>0</td>\n",
              "    </tr>\n",
              "  </tbody>\n",
              "</table>\n",
              "</div>"
            ],
            "text/plain": [
              "       ID  PAYMENT_TERM INSTALLMENT_PLANS  ...  LOAN_AMOUNT OTHERS_ON_LOAN  ALLOW\n",
              "0  610339         713.0            STORES  ...       3103.0           NONE      1\n",
              "1  109167         341.0            STORES  ...        716.0           NONE      1\n",
              "2  823322         868.0              NONE  ...       4333.0           NONE      1\n",
              "3  322224         310.0            STORES  ...        250.0           NONE      1\n",
              "4  912693         620.0              NONE  ...       2454.0           NONE      0\n",
              "\n",
              "[5 rows x 8 columns]"
            ]
          },
          "metadata": {},
          "execution_count": 9
        }
      ]
    },
    {
      "cell_type": "code",
      "metadata": {
        "colab": {
          "base_uri": "https://localhost:8080/"
        },
        "id": "zzeOAZ204yTP",
        "outputId": "4d605123-1afa-47c3-ff58-78fb92bf390b"
      },
      "source": [
        "loans.isnull().sum()"
      ],
      "execution_count": 10,
      "outputs": [
        {
          "output_type": "execute_result",
          "data": {
            "text/plain": [
              "ID                     0\n",
              "PAYMENT_TERM           0\n",
              "INSTALLMENT_PLANS      0\n",
              "INSTALLMENT_PERCENT    0\n",
              "LOAN_PURPOSE           0\n",
              "LOAN_AMOUNT            0\n",
              "OTHERS_ON_LOAN         0\n",
              "ALLOW                  0\n",
              "dtype: int64"
            ]
          },
          "metadata": {},
          "execution_count": 10
        }
      ]
    },
    {
      "cell_type": "markdown",
      "metadata": {
        "id": "PBnwSnwi9V4L"
      },
      "source": [
        "Amostragem Aleatória Simples"
      ]
    },
    {
      "cell_type": "markdown",
      "metadata": {
        "id": "3NpkHNyg9bwE"
      },
      "source": [
        "Criando uma amostra com apenas 10 registros a partir do conjunto de dados\n",
        "\n",
        "Exemplo: Um professor quer sortear duas caixas de bombom entre os alunos de sua classe para isso ele coloca os nomes dos alunos em uma urna."
      ]
    },
    {
      "cell_type": "code",
      "metadata": {
        "id": "Yrr13v-o6Sln"
      },
      "source": [
        "df_sample = loans.sample(n=10)"
      ],
      "execution_count": 11,
      "outputs": []
    },
    {
      "cell_type": "code",
      "metadata": {
        "colab": {
          "base_uri": "https://localhost:8080/"
        },
        "id": "ggN396qQ6YR-",
        "outputId": "f7817c88-6a54-4c02-8abd-e00209c3a8dc"
      },
      "source": [
        "df_sample.info()"
      ],
      "execution_count": 12,
      "outputs": [
        {
          "output_type": "stream",
          "name": "stdout",
          "text": [
            "<class 'pandas.core.frame.DataFrame'>\n",
            "Int64Index: 10 entries, 3970 to 2584\n",
            "Data columns (total 8 columns):\n",
            " #   Column               Non-Null Count  Dtype  \n",
            "---  ------               --------------  -----  \n",
            " 0   ID                   10 non-null     int64  \n",
            " 1   PAYMENT_TERM         10 non-null     float64\n",
            " 2   INSTALLMENT_PLANS    10 non-null     object \n",
            " 3   INSTALLMENT_PERCENT  10 non-null     float64\n",
            " 4   LOAN_PURPOSE         10 non-null     object \n",
            " 5   LOAN_AMOUNT          10 non-null     float64\n",
            " 6   OTHERS_ON_LOAN       10 non-null     object \n",
            " 7   ALLOW                10 non-null     int64  \n",
            "dtypes: float64(3), int64(2), object(3)\n",
            "memory usage: 720.0+ bytes\n"
          ]
        }
      ]
    },
    {
      "cell_type": "markdown",
      "metadata": {
        "id": "sUBCduoO9ujL"
      },
      "source": [
        "Especificando o tamanho da amostra através do percentual\n",
        "\n",
        "10% de 150 registros é igual a 15, da população total foram selecionados 15 registros aleatórios para compor o dataframe."
      ]
    },
    {
      "cell_type": "code",
      "metadata": {
        "id": "sd_yoSi6-TcD"
      },
      "source": [
        "df_sample = loans.sample(frac=0.10)"
      ],
      "execution_count": 13,
      "outputs": []
    },
    {
      "cell_type": "code",
      "metadata": {
        "colab": {
          "base_uri": "https://localhost:8080/"
        },
        "id": "6TH0eC3X-epE",
        "outputId": "edd9ad96-9b44-4c2b-c2a6-2d64ab7f10f3"
      },
      "source": [
        "df_sample.info()"
      ],
      "execution_count": 14,
      "outputs": [
        {
          "output_type": "stream",
          "name": "stdout",
          "text": [
            "<class 'pandas.core.frame.DataFrame'>\n",
            "Int64Index: 400 entries, 2166 to 2276\n",
            "Data columns (total 8 columns):\n",
            " #   Column               Non-Null Count  Dtype  \n",
            "---  ------               --------------  -----  \n",
            " 0   ID                   400 non-null    int64  \n",
            " 1   PAYMENT_TERM         400 non-null    float64\n",
            " 2   INSTALLMENT_PLANS    400 non-null    object \n",
            " 3   INSTALLMENT_PERCENT  400 non-null    float64\n",
            " 4   LOAN_PURPOSE         400 non-null    object \n",
            " 5   LOAN_AMOUNT          400 non-null    float64\n",
            " 6   OTHERS_ON_LOAN       400 non-null    object \n",
            " 7   ALLOW                400 non-null    int64  \n",
            "dtypes: float64(3), int64(2), object(3)\n",
            "memory usage: 28.1+ KB\n"
          ]
        }
      ]
    },
    {
      "cell_type": "markdown",
      "metadata": {
        "id": "TfS1yVNM-xux"
      },
      "source": [
        "Amostragem Aleatória Estratificada\n",
        "\n",
        "Exemplo: um conselho estudantil entrevista 100 alunos obtendo uma amostra aleatória de 25 calouros, 25 alunos do 1° ano, 25 alunos do 2° ano e 25 alunos do 3° ano."
      ]
    },
    {
      "cell_type": "code",
      "metadata": {
        "colab": {
          "base_uri": "https://localhost:8080/"
        },
        "id": "NB52IBNl7IGf",
        "outputId": "22956c27-7c0d-44a9-f828-85af05f9eb89"
      },
      "source": [
        "loans['INSTALLMENT_PLANS'].value_counts()"
      ],
      "execution_count": 15,
      "outputs": [
        {
          "output_type": "execute_result",
          "data": {
            "text/plain": [
              "NONE      2782\n",
              "STORES     815\n",
              "BANK       381\n",
              "0           21\n",
              "Name: INSTALLMENT_PLANS, dtype: int64"
            ]
          },
          "metadata": {},
          "execution_count": 15
        }
      ]
    },
    {
      "cell_type": "code",
      "metadata": {
        "colab": {
          "base_uri": "https://localhost:8080/"
        },
        "id": "fTyU6V348hY2",
        "outputId": "d99ef562-67c0-4d63-b586-0de1fe82ae8b"
      },
      "source": [
        "loans['LOAN_PURPOSE'].value_counts()"
      ],
      "execution_count": 16,
      "outputs": [
        {
          "output_type": "execute_result",
          "data": {
            "text/plain": [
              "CAR_NEW       748\n",
              "FURNITURE     690\n",
              "CAR_USED      652\n",
              "RADIO_TV      604\n",
              "APPLIANCES    436\n",
              "REPAIRS       229\n",
              "VACATION      163\n",
              "RETRAINING    130\n",
              "EDUCATION     126\n",
              "BUSINESS      114\n",
              "OTHER          87\n",
              "0              20\n",
              "Name: LOAN_PURPOSE, dtype: int64"
            ]
          },
          "metadata": {},
          "execution_count": 16
        }
      ]
    },
    {
      "cell_type": "code",
      "metadata": {
        "colab": {
          "base_uri": "https://localhost:8080/"
        },
        "id": "Hl74oIsW8kH0",
        "outputId": "ffe0704c-2571-4822-9837-9b0c6059c313"
      },
      "source": [
        "loans['OTHERS_ON_LOAN'].value_counts()"
      ],
      "execution_count": 17,
      "outputs": [
        {
          "output_type": "execute_result",
          "data": {
            "text/plain": [
              "NONE            3306\n",
              "CO-APPLICANT     576\n",
              "GUARANTOR         95\n",
              "0                 22\n",
              "Name: OTHERS_ON_LOAN, dtype: int64"
            ]
          },
          "metadata": {},
          "execution_count": 17
        }
      ]
    },
    {
      "cell_type": "markdown",
      "metadata": {
        "id": "J2Sve5D2tRUL"
      },
      "source": [
        "A variável destino para este desafio é a ALLOW, significando se um empréstimo deverá ser permitido ou não, baseado nas informações dadas. Vamos dar uma olhada em como está a distribuição dessa variável"
      ]
    },
    {
      "cell_type": "code",
      "metadata": {
        "colab": {
          "base_uri": "https://localhost:8080/",
          "height": 279
        },
        "id": "HQLnZJz7sTSw",
        "outputId": "ac7ca6e7-26d1-4adc-fefa-aea7ff7ccd16"
      },
      "source": [
        "risk_plot = sns.countplot(data=loans, x='ALLOW', order=loans['ALLOW'].value_counts().index)"
      ],
      "execution_count": 18,
      "outputs": [
        {
          "output_type": "display_data",
          "data": {
            "image/png": "[encoded data removed]",
            "text/plain": [
              "<Figure size 432x288 with 1 Axes>"
            ]
          },
          "metadata": {
            "needs_background": "light"
          }
        }
      ]
    },
    {
      "cell_type": "markdown",
      "metadata": {
        "id": "XHrI9ehhs-sS"
      },
      "source": [
        "Sinta-se livre para ver a distribuição de outras colunas do conjunto de dados, utilizar os outros conjuntos de dados, explorar as correlações entre variáveis e outros.\n"
      ]
    },
    {
      "cell_type": "code",
      "metadata": {
        "colab": {
          "base_uri": "https://localhost:8080/",
          "height": 419
        },
        "id": "eBRTNdoPtaeI",
        "outputId": "b6f764ca-d784-4e3d-e7c1-beccbff4abe3"
      },
      "source": [
        "pd.read_csv('/content/DEMOGRAPHICS.csv') "
      ],
      "execution_count": 27,
      "outputs": [
        {
          "output_type": "execute_result",
          "data": {
            "text/html": [
              "<div>\n",
              "<style scoped>\n",
              "    .dataframe tbody tr th:only-of-type {\n",
              "        vertical-align: middle;\n",
              "    }\n",
              "\n",
              "    .dataframe tbody tr th {\n",
              "        vertical-align: top;\n",
              "    }\n",
              "\n",
              "    .dataframe thead th {\n",
              "        text-align: right;\n",
              "    }\n",
              "</style>\n",
              "<table border=\"1\" class=\"dataframe\">\n",
              "  <thead>\n",
              "    <tr style=\"text-align: right;\">\n",
              "      <th></th>\n",
              "      <th>ID</th>\n",
              "      <th>SEX</th>\n",
              "      <th>AGE</th>\n",
              "      <th>JOB_TYPE</th>\n",
              "      <th>DEPENDENTS</th>\n",
              "      <th>TELEPHONE</th>\n",
              "      <th>FOREIGN_WORKER</th>\n",
              "      <th>EMPLOYMENT_DURATION</th>\n",
              "      <th>PROPERTY</th>\n",
              "      <th>HOUSING</th>\n",
              "      <th>CURRENT_RESIDENCE_DURATION</th>\n",
              "    </tr>\n",
              "  </thead>\n",
              "  <tbody>\n",
              "    <tr>\n",
              "      <th>0</th>\n",
              "      <td>24252</td>\n",
              "      <td>M</td>\n",
              "      <td>47.0</td>\n",
              "      <td>3.0</td>\n",
              "      <td>1.0</td>\n",
              "      <td>0.0</td>\n",
              "      <td>1.0</td>\n",
              "      <td>14.0</td>\n",
              "      <td>SAVINGS_INSURANCE</td>\n",
              "      <td>OWN</td>\n",
              "      <td>3.0</td>\n",
              "    </tr>\n",
              "    <tr>\n",
              "      <th>1</th>\n",
              "      <td>1002018</td>\n",
              "      <td>M</td>\n",
              "      <td>19.0</td>\n",
              "      <td>3.0</td>\n",
              "      <td>1.0</td>\n",
              "      <td>0.0</td>\n",
              "      <td>1.0</td>\n",
              "      <td>0.0</td>\n",
              "      <td>SAVINGS_INSURANCE</td>\n",
              "      <td>RENT</td>\n",
              "      <td>2.0</td>\n",
              "    </tr>\n",
              "    <tr>\n",
              "      <th>2</th>\n",
              "      <td>1240455</td>\n",
              "      <td>F</td>\n",
              "      <td>50.0</td>\n",
              "      <td>2.0</td>\n",
              "      <td>1.0</td>\n",
              "      <td>1.0</td>\n",
              "      <td>1.0</td>\n",
              "      <td>7.0</td>\n",
              "      <td>UNKNOWN</td>\n",
              "      <td>OWN</td>\n",
              "      <td>3.0</td>\n",
              "    </tr>\n",
              "    <tr>\n",
              "      <th>3</th>\n",
              "      <td>107799</td>\n",
              "      <td>M</td>\n",
              "      <td>35.0</td>\n",
              "      <td>3.0</td>\n",
              "      <td>1.0</td>\n",
              "      <td>0.0</td>\n",
              "      <td>1.0</td>\n",
              "      <td>0.0</td>\n",
              "      <td>REAL_ESTATE</td>\n",
              "      <td>OWN</td>\n",
              "      <td>2.0</td>\n",
              "    </tr>\n",
              "    <tr>\n",
              "      <th>4</th>\n",
              "      <td>184883</td>\n",
              "      <td>M</td>\n",
              "      <td>40.0</td>\n",
              "      <td>1.0</td>\n",
              "      <td>1.0</td>\n",
              "      <td>0.0</td>\n",
              "      <td>1.0</td>\n",
              "      <td>9.0</td>\n",
              "      <td>CAR_OTHER</td>\n",
              "      <td>OWN</td>\n",
              "      <td>4.0</td>\n",
              "    </tr>\n",
              "    <tr>\n",
              "      <th>...</th>\n",
              "      <td>...</td>\n",
              "      <td>...</td>\n",
              "      <td>...</td>\n",
              "      <td>...</td>\n",
              "      <td>...</td>\n",
              "      <td>...</td>\n",
              "      <td>...</td>\n",
              "      <td>...</td>\n",
              "      <td>...</td>\n",
              "      <td>...</td>\n",
              "      <td>...</td>\n",
              "    </tr>\n",
              "    <tr>\n",
              "      <th>3931</th>\n",
              "      <td>636739</td>\n",
              "      <td>F</td>\n",
              "      <td>41.0</td>\n",
              "      <td>0.0</td>\n",
              "      <td>1.0</td>\n",
              "      <td>0.0</td>\n",
              "      <td>1.0</td>\n",
              "      <td>7.0</td>\n",
              "      <td>CAR_OTHER</td>\n",
              "      <td>OWN</td>\n",
              "      <td>3.0</td>\n",
              "    </tr>\n",
              "    <tr>\n",
              "      <th>3932</th>\n",
              "      <td>919733</td>\n",
              "      <td>M</td>\n",
              "      <td>46.0</td>\n",
              "      <td>3.0</td>\n",
              "      <td>1.0</td>\n",
              "      <td>1.0</td>\n",
              "      <td>1.0</td>\n",
              "      <td>11.0</td>\n",
              "      <td>SAVINGS_INSURANCE</td>\n",
              "      <td>OWN</td>\n",
              "      <td>3.0</td>\n",
              "    </tr>\n",
              "    <tr>\n",
              "      <th>3933</th>\n",
              "      <td>115839</td>\n",
              "      <td>M</td>\n",
              "      <td>28.0</td>\n",
              "      <td>3.0</td>\n",
              "      <td>1.0</td>\n",
              "      <td>1.0</td>\n",
              "      <td>1.0</td>\n",
              "      <td>7.0</td>\n",
              "      <td>CAR_OTHER</td>\n",
              "      <td>RENT</td>\n",
              "      <td>1.0</td>\n",
              "    </tr>\n",
              "    <tr>\n",
              "      <th>3934</th>\n",
              "      <td>1128684</td>\n",
              "      <td>M</td>\n",
              "      <td>46.0</td>\n",
              "      <td>0.0</td>\n",
              "      <td>1.0</td>\n",
              "      <td>0.0</td>\n",
              "      <td>1.0</td>\n",
              "      <td>7.0</td>\n",
              "      <td>CAR_OTHER</td>\n",
              "      <td>RENT</td>\n",
              "      <td>3.0</td>\n",
              "    </tr>\n",
              "    <tr>\n",
              "      <th>3935</th>\n",
              "      <td>5547</td>\n",
              "      <td>M</td>\n",
              "      <td>40.0</td>\n",
              "      <td>3.0</td>\n",
              "      <td>1.0</td>\n",
              "      <td>0.0</td>\n",
              "      <td>1.0</td>\n",
              "      <td>3.0</td>\n",
              "      <td>CAR_OTHER</td>\n",
              "      <td>OWN</td>\n",
              "      <td>5.0</td>\n",
              "    </tr>\n",
              "  </tbody>\n",
              "</table>\n",
              "<p>3936 rows × 11 columns</p>\n",
              "</div>"
            ],
            "text/plain": [
              "           ID SEX   AGE  ...           PROPERTY  HOUSING  CURRENT_RESIDENCE_DURATION\n",
              "0       24252   M  47.0  ...  SAVINGS_INSURANCE      OWN                         3.0\n",
              "1     1002018   M  19.0  ...  SAVINGS_INSURANCE     RENT                         2.0\n",
              "2     1240455   F  50.0  ...            UNKNOWN      OWN                         3.0\n",
              "3      107799   M  35.0  ...        REAL_ESTATE      OWN                         2.0\n",
              "4      184883   M  40.0  ...          CAR_OTHER      OWN                         4.0\n",
              "...       ...  ..   ...  ...                ...      ...                         ...\n",
              "3931   636739   F  41.0  ...          CAR_OTHER      OWN                         3.0\n",
              "3932   919733   M  46.0  ...  SAVINGS_INSURANCE      OWN                         3.0\n",
              "3933   115839   M  28.0  ...          CAR_OTHER     RENT                         1.0\n",
              "3934  1128684   M  46.0  ...          CAR_OTHER     RENT                         3.0\n",
              "3935     5547   M  40.0  ...          CAR_OTHER      OWN                         5.0\n",
              "\n",
              "[3936 rows x 11 columns]"
            ]
          },
          "metadata": {},
          "execution_count": 27
        }
      ]
    },
    {
      "cell_type": "markdown",
      "metadata": {
        "id": "J8VPZrR9GFpK"
      },
      "source": [
        "\n",
        "JOB TYPE = TIPO DE TRABALHO\n",
        "\n",
        "DEPENDENTS = DEPENDENTES\n",
        "\n",
        "FOREIGN WORKER = TRABALHADOR ESTRANGEIRO\n",
        "\n",
        "EMPLOYMENT_DURATION = DURAÇÃO DO EMPREGO\n",
        "\n",
        "PROPERTY = PROPRIEDADE\n",
        "\n",
        "HOUSING = HABITAÇÃO\n",
        "\n",
        "CURRENT RESIDENCE DURATION = DURAÇÃO ATUAL DA RESIDÊNCIA"
      ]
    },
    {
      "cell_type": "code",
      "metadata": {
        "id": "83nxdRPFta4_"
      },
      "source": [
        "loans = pd.read_csv('/content/DEMOGRAPHICS.csv')"
      ],
      "execution_count": 28,
      "outputs": []
    },
    {
      "cell_type": "code",
      "metadata": {
        "colab": {
          "base_uri": "https://localhost:8080/"
        },
        "id": "1O6anyi0tbRA",
        "outputId": "add80a37-a109-4e23-abaa-efe9f2cae21d"
      },
      "source": [
        "loans.info()"
      ],
      "execution_count": 29,
      "outputs": [
        {
          "output_type": "stream",
          "name": "stdout",
          "text": [
            "<class 'pandas.core.frame.DataFrame'>\n",
            "RangeIndex: 3936 entries, 0 to 3935\n",
            "Data columns (total 11 columns):\n",
            " #   Column                      Non-Null Count  Dtype  \n",
            "---  ------                      --------------  -----  \n",
            " 0   ID                          3936 non-null   int64  \n",
            " 1   SEX                         3920 non-null   object \n",
            " 2   AGE                         3918 non-null   float64\n",
            " 3   JOB_TYPE                    3910 non-null   float64\n",
            " 4   DEPENDENTS                  3915 non-null   float64\n",
            " 5   TELEPHONE                   3915 non-null   float64\n",
            " 6   FOREIGN_WORKER              3909 non-null   float64\n",
            " 7   EMPLOYMENT_DURATION         3923 non-null   float64\n",
            " 8   PROPERTY                    3918 non-null   object \n",
            " 9   HOUSING                     3912 non-null   object \n",
            " 10  CURRENT_RESIDENCE_DURATION  3917 non-null   float64\n",
            "dtypes: float64(7), int64(1), object(3)\n",
            "memory usage: 338.4+ KB\n"
          ]
        }
      ]
    },
    {
      "cell_type": "code",
      "metadata": {
        "colab": {
          "base_uri": "https://localhost:8080/",
          "height": 297
        },
        "id": "ZtXH1u18HTI8",
        "outputId": "5b47f603-cf76-4c94-c287-c6d72d4f3b5f"
      },
      "source": [
        "loans.describe()"
      ],
      "execution_count": 30,
      "outputs": [
        {
          "output_type": "execute_result",
          "data": {
            "text/html": [
              "<div>\n",
              "<style scoped>\n",
              "    .dataframe tbody tr th:only-of-type {\n",
              "        vertical-align: middle;\n",
              "    }\n",
              "\n",
              "    .dataframe tbody tr th {\n",
              "        vertical-align: top;\n",
              "    }\n",
              "\n",
              "    .dataframe thead th {\n",
              "        text-align: right;\n",
              "    }\n",
              "</style>\n",
              "<table border=\"1\" class=\"dataframe\">\n",
              "  <thead>\n",
              "    <tr style=\"text-align: right;\">\n",
              "      <th></th>\n",
              "      <th>ID</th>\n",
              "      <th>AGE</th>\n",
              "      <th>JOB_TYPE</th>\n",
              "      <th>DEPENDENTS</th>\n",
              "      <th>TELEPHONE</th>\n",
              "      <th>FOREIGN_WORKER</th>\n",
              "      <th>EMPLOYMENT_DURATION</th>\n",
              "      <th>CURRENT_RESIDENCE_DURATION</th>\n",
              "    </tr>\n",
              "  </thead>\n",
              "  <tbody>\n",
              "    <tr>\n",
              "      <th>count</th>\n",
              "      <td>3.936000e+03</td>\n",
              "      <td>3918.000000</td>\n",
              "      <td>3910.000000</td>\n",
              "      <td>3915.000000</td>\n",
              "      <td>3915.000000</td>\n",
              "      <td>3909.000000</td>\n",
              "      <td>3923.000000</td>\n",
              "      <td>3917.000000</td>\n",
              "    </tr>\n",
              "    <tr>\n",
              "      <th>mean</th>\n",
              "      <td>6.614226e+05</td>\n",
              "      <td>36.032925</td>\n",
              "      <td>2.429923</td>\n",
              "      <td>1.161175</td>\n",
              "      <td>0.412005</td>\n",
              "      <td>0.975697</td>\n",
              "      <td>4.238848</td>\n",
              "      <td>2.865458</td>\n",
              "    </tr>\n",
              "    <tr>\n",
              "      <th>std</th>\n",
              "      <td>3.731249e+05</td>\n",
              "      <td>10.617743</td>\n",
              "      <td>0.931842</td>\n",
              "      <td>0.367739</td>\n",
              "      <td>0.492259</td>\n",
              "      <td>0.154008</td>\n",
              "      <td>3.595680</td>\n",
              "      <td>1.115873</td>\n",
              "    </tr>\n",
              "    <tr>\n",
              "      <th>min</th>\n",
              "      <td>9.800000e+01</td>\n",
              "      <td>19.000000</td>\n",
              "      <td>0.000000</td>\n",
              "      <td>1.000000</td>\n",
              "      <td>0.000000</td>\n",
              "      <td>0.000000</td>\n",
              "      <td>0.000000</td>\n",
              "      <td>1.000000</td>\n",
              "    </tr>\n",
              "    <tr>\n",
              "      <th>25%</th>\n",
              "      <td>3.427448e+05</td>\n",
              "      <td>28.000000</td>\n",
              "      <td>2.000000</td>\n",
              "      <td>1.000000</td>\n",
              "      <td>0.000000</td>\n",
              "      <td>1.000000</td>\n",
              "      <td>1.000000</td>\n",
              "      <td>2.000000</td>\n",
              "    </tr>\n",
              "    <tr>\n",
              "      <th>50%</th>\n",
              "      <td>6.679115e+05</td>\n",
              "      <td>36.000000</td>\n",
              "      <td>3.000000</td>\n",
              "      <td>1.000000</td>\n",
              "      <td>0.000000</td>\n",
              "      <td>1.000000</td>\n",
              "      <td>4.000000</td>\n",
              "      <td>3.000000</td>\n",
              "    </tr>\n",
              "    <tr>\n",
              "      <th>75%</th>\n",
              "      <td>9.794970e+05</td>\n",
              "      <td>44.000000</td>\n",
              "      <td>3.000000</td>\n",
              "      <td>1.000000</td>\n",
              "      <td>1.000000</td>\n",
              "      <td>1.000000</td>\n",
              "      <td>7.000000</td>\n",
              "      <td>4.000000</td>\n",
              "    </tr>\n",
              "    <tr>\n",
              "      <th>max</th>\n",
              "      <td>1.320082e+06</td>\n",
              "      <td>74.000000</td>\n",
              "      <td>3.000000</td>\n",
              "      <td>2.000000</td>\n",
              "      <td>1.000000</td>\n",
              "      <td>1.000000</td>\n",
              "      <td>18.000000</td>\n",
              "      <td>6.000000</td>\n",
              "    </tr>\n",
              "  </tbody>\n",
              "</table>\n",
              "</div>"
            ],
            "text/plain": [
              "                 ID  ...  CURRENT_RESIDENCE_DURATION\n",
              "count  3.936000e+03  ...                 3917.000000\n",
              "mean   6.614226e+05  ...                    2.865458\n",
              "std    3.731249e+05  ...                    1.115873\n",
              "min    9.800000e+01  ...                    1.000000\n",
              "25%    3.427448e+05  ...                    2.000000\n",
              "50%    6.679115e+05  ...                    3.000000\n",
              "75%    9.794970e+05  ...                    4.000000\n",
              "max    1.320082e+06  ...                    6.000000\n",
              "\n",
              "[8 rows x 8 columns]"
            ]
          },
          "metadata": {},
          "execution_count": 30
        }
      ]
    },
    {
      "cell_type": "code",
      "metadata": {
        "colab": {
          "base_uri": "https://localhost:8080/"
        },
        "id": "pZKeDomTHZ-F",
        "outputId": "179a916f-4e2b-4f7b-89cf-3eb7755bc3b9"
      },
      "source": [
        "loans.isnull().sum()"
      ],
      "execution_count": 31,
      "outputs": [
        {
          "output_type": "execute_result",
          "data": {
            "text/plain": [
              "ID                             0\n",
              "SEX                           16\n",
              "AGE                           18\n",
              "JOB_TYPE                      26\n",
              "DEPENDENTS                    21\n",
              "TELEPHONE                     21\n",
              "FOREIGN_WORKER                27\n",
              "EMPLOYMENT_DURATION           13\n",
              "PROPERTY                      18\n",
              "HOUSING                       24\n",
              "CURRENT_RESIDENCE_DURATION    19\n",
              "dtype: int64"
            ]
          },
          "metadata": {},
          "execution_count": 31
        }
      ]
    },
    {
      "cell_type": "code",
      "metadata": {
        "id": "4xZrDE11HgiL"
      },
      "source": [
        "loans.fillna(0,inplace = True)"
      ],
      "execution_count": 32,
      "outputs": []
    },
    {
      "cell_type": "code",
      "metadata": {
        "colab": {
          "base_uri": "https://localhost:8080/",
          "height": 204
        },
        "id": "KFKe3d7IHoGj",
        "outputId": "2e0234d0-b4c2-4e65-b9c8-4364d873d122"
      },
      "source": [
        "loans.head()"
      ],
      "execution_count": 33,
      "outputs": [
        {
          "output_type": "execute_result",
          "data": {
            "text/html": [
              "<div>\n",
              "<style scoped>\n",
              "    .dataframe tbody tr th:only-of-type {\n",
              "        vertical-align: middle;\n",
              "    }\n",
              "\n",
              "    .dataframe tbody tr th {\n",
              "        vertical-align: top;\n",
              "    }\n",
              "\n",
              "    .dataframe thead th {\n",
              "        text-align: right;\n",
              "    }\n",
              "</style>\n",
              "<table border=\"1\" class=\"dataframe\">\n",
              "  <thead>\n",
              "    <tr style=\"text-align: right;\">\n",
              "      <th></th>\n",
              "      <th>ID</th>\n",
              "      <th>SEX</th>\n",
              "      <th>AGE</th>\n",
              "      <th>JOB_TYPE</th>\n",
              "      <th>DEPENDENTS</th>\n",
              "      <th>TELEPHONE</th>\n",
              "      <th>FOREIGN_WORKER</th>\n",
              "      <th>EMPLOYMENT_DURATION</th>\n",
              "      <th>PROPERTY</th>\n",
              "      <th>HOUSING</th>\n",
              "      <th>CURRENT_RESIDENCE_DURATION</th>\n",
              "    </tr>\n",
              "  </thead>\n",
              "  <tbody>\n",
              "    <tr>\n",
              "      <th>0</th>\n",
              "      <td>24252</td>\n",
              "      <td>M</td>\n",
              "      <td>47.0</td>\n",
              "      <td>3.0</td>\n",
              "      <td>1.0</td>\n",
              "      <td>0.0</td>\n",
              "      <td>1.0</td>\n",
              "      <td>14.0</td>\n",
              "      <td>SAVINGS_INSURANCE</td>\n",
              "      <td>OWN</td>\n",
              "      <td>3.0</td>\n",
              "    </tr>\n",
              "    <tr>\n",
              "      <th>1</th>\n",
              "      <td>1002018</td>\n",
              "      <td>M</td>\n",
              "      <td>19.0</td>\n",
              "      <td>3.0</td>\n",
              "      <td>1.0</td>\n",
              "      <td>0.0</td>\n",
              "      <td>1.0</td>\n",
              "      <td>0.0</td>\n",
              "      <td>SAVINGS_INSURANCE</td>\n",
              "      <td>RENT</td>\n",
              "      <td>2.0</td>\n",
              "    </tr>\n",
              "    <tr>\n",
              "      <th>2</th>\n",
              "      <td>1240455</td>\n",
              "      <td>F</td>\n",
              "      <td>50.0</td>\n",
              "      <td>2.0</td>\n",
              "      <td>1.0</td>\n",
              "      <td>1.0</td>\n",
              "      <td>1.0</td>\n",
              "      <td>7.0</td>\n",
              "      <td>UNKNOWN</td>\n",
              "      <td>OWN</td>\n",
              "      <td>3.0</td>\n",
              "    </tr>\n",
              "    <tr>\n",
              "      <th>3</th>\n",
              "      <td>107799</td>\n",
              "      <td>M</td>\n",
              "      <td>35.0</td>\n",
              "      <td>3.0</td>\n",
              "      <td>1.0</td>\n",
              "      <td>0.0</td>\n",
              "      <td>1.0</td>\n",
              "      <td>0.0</td>\n",
              "      <td>REAL_ESTATE</td>\n",
              "      <td>OWN</td>\n",
              "      <td>2.0</td>\n",
              "    </tr>\n",
              "    <tr>\n",
              "      <th>4</th>\n",
              "      <td>184883</td>\n",
              "      <td>M</td>\n",
              "      <td>40.0</td>\n",
              "      <td>1.0</td>\n",
              "      <td>1.0</td>\n",
              "      <td>0.0</td>\n",
              "      <td>1.0</td>\n",
              "      <td>9.0</td>\n",
              "      <td>CAR_OTHER</td>\n",
              "      <td>OWN</td>\n",
              "      <td>4.0</td>\n",
              "    </tr>\n",
              "  </tbody>\n",
              "</table>\n",
              "</div>"
            ],
            "text/plain": [
              "        ID SEX   AGE  ...           PROPERTY  HOUSING  CURRENT_RESIDENCE_DURATION\n",
              "0    24252   M  47.0  ...  SAVINGS_INSURANCE      OWN                         3.0\n",
              "1  1002018   M  19.0  ...  SAVINGS_INSURANCE     RENT                         2.0\n",
              "2  1240455   F  50.0  ...            UNKNOWN      OWN                         3.0\n",
              "3   107799   M  35.0  ...        REAL_ESTATE      OWN                         2.0\n",
              "4   184883   M  40.0  ...          CAR_OTHER      OWN                         4.0\n",
              "\n",
              "[5 rows x 11 columns]"
            ]
          },
          "metadata": {},
          "execution_count": 33
        }
      ]
    },
    {
      "cell_type": "code",
      "metadata": {
        "colab": {
          "base_uri": "https://localhost:8080/"
        },
        "id": "BPHdLYdNHs5M",
        "outputId": "094c7ef0-3b0a-4d81-c0b1-3e6c88c820c2"
      },
      "source": [
        "loans.isnull().sum()"
      ],
      "execution_count": 34,
      "outputs": [
        {
          "output_type": "execute_result",
          "data": {
            "text/plain": [
              "ID                            0\n",
              "SEX                           0\n",
              "AGE                           0\n",
              "JOB_TYPE                      0\n",
              "DEPENDENTS                    0\n",
              "TELEPHONE                     0\n",
              "FOREIGN_WORKER                0\n",
              "EMPLOYMENT_DURATION           0\n",
              "PROPERTY                      0\n",
              "HOUSING                       0\n",
              "CURRENT_RESIDENCE_DURATION    0\n",
              "dtype: int64"
            ]
          },
          "metadata": {},
          "execution_count": 34
        }
      ]
    },
    {
      "cell_type": "code",
      "metadata": {
        "colab": {
          "base_uri": "https://localhost:8080/",
          "height": 419
        },
        "id": "qr2PFS9qH20M",
        "outputId": "99802f87-1821-42b0-ba01-984447e1789d"
      },
      "source": [
        "pd.read_csv('/content/ACCOUNTS.csv') "
      ],
      "execution_count": 36,
      "outputs": [
        {
          "output_type": "execute_result",
          "data": {
            "text/html": [
              "<div>\n",
              "<style scoped>\n",
              "    .dataframe tbody tr th:only-of-type {\n",
              "        vertical-align: middle;\n",
              "    }\n",
              "\n",
              "    .dataframe tbody tr th {\n",
              "        vertical-align: top;\n",
              "    }\n",
              "\n",
              "    .dataframe thead th {\n",
              "        text-align: right;\n",
              "    }\n",
              "</style>\n",
              "<table border=\"1\" class=\"dataframe\">\n",
              "  <thead>\n",
              "    <tr style=\"text-align: right;\">\n",
              "      <th></th>\n",
              "      <th>ID</th>\n",
              "      <th>CHECKING_BALANCE</th>\n",
              "      <th>CREDIT_HISTORY</th>\n",
              "      <th>EXISTING_SAVINGS</th>\n",
              "      <th>EXISTING_CREDITS_COUNT</th>\n",
              "    </tr>\n",
              "  </thead>\n",
              "  <tbody>\n",
              "    <tr>\n",
              "      <th>0</th>\n",
              "      <td>291655</td>\n",
              "      <td>-566.53</td>\n",
              "      <td>ALL_CREDITS_PAID_BACK</td>\n",
              "      <td>36.42</td>\n",
              "      <td>1.0</td>\n",
              "    </tr>\n",
              "    <tr>\n",
              "      <th>1</th>\n",
              "      <td>657079</td>\n",
              "      <td>-1673.16</td>\n",
              "      <td>CREDITS_PAID_TO_DATE</td>\n",
              "      <td>22.9</td>\n",
              "      <td>1.0</td>\n",
              "    </tr>\n",
              "    <tr>\n",
              "      <th>2</th>\n",
              "      <td>256050</td>\n",
              "      <td>NO_CHECKING</td>\n",
              "      <td>CREDITS_PAID_TO_DATE</td>\n",
              "      <td>450.35</td>\n",
              "      <td>2.0</td>\n",
              "    </tr>\n",
              "    <tr>\n",
              "      <th>3</th>\n",
              "      <td>1039151</td>\n",
              "      <td>-1471.03</td>\n",
              "      <td>PRIOR_PAYMENTS_DELAYED</td>\n",
              "      <td>805.71</td>\n",
              "      <td>2.0</td>\n",
              "    </tr>\n",
              "    <tr>\n",
              "      <th>4</th>\n",
              "      <td>1002660</td>\n",
              "      <td>NO_CHECKING</td>\n",
              "      <td>CREDITS_PAID_TO_DATE</td>\n",
              "      <td>295.03</td>\n",
              "      <td>1.0</td>\n",
              "    </tr>\n",
              "    <tr>\n",
              "      <th>...</th>\n",
              "      <td>...</td>\n",
              "      <td>...</td>\n",
              "      <td>...</td>\n",
              "      <td>...</td>\n",
              "      <td>...</td>\n",
              "    </tr>\n",
              "    <tr>\n",
              "      <th>2472</th>\n",
              "      <td>636739</td>\n",
              "      <td>163.82</td>\n",
              "      <td>CREDITS_PAID_TO_DATE</td>\n",
              "      <td>472.11</td>\n",
              "      <td>1.0</td>\n",
              "    </tr>\n",
              "    <tr>\n",
              "      <th>2473</th>\n",
              "      <td>919733</td>\n",
              "      <td>14324.23</td>\n",
              "      <td>PRIOR_PAYMENTS_DELAYED</td>\n",
              "      <td>18652.44</td>\n",
              "      <td>1.0</td>\n",
              "    </tr>\n",
              "    <tr>\n",
              "      <th>2474</th>\n",
              "      <td>115839</td>\n",
              "      <td>130.13</td>\n",
              "      <td>PRIOR_PAYMENTS_DELAYED</td>\n",
              "      <td>726.78</td>\n",
              "      <td>2.0</td>\n",
              "    </tr>\n",
              "    <tr>\n",
              "      <th>2475</th>\n",
              "      <td>1128684</td>\n",
              "      <td>NO_CHECKING</td>\n",
              "      <td>PRIOR_PAYMENTS_DELAYED</td>\n",
              "      <td>UNKNOWN</td>\n",
              "      <td>1.0</td>\n",
              "    </tr>\n",
              "    <tr>\n",
              "      <th>2476</th>\n",
              "      <td>5547</td>\n",
              "      <td>NO_CHECKING</td>\n",
              "      <td>PRIOR_PAYMENTS_DELAYED</td>\n",
              "      <td>UNKNOWN</td>\n",
              "      <td>2.0</td>\n",
              "    </tr>\n",
              "  </tbody>\n",
              "</table>\n",
              "<p>2477 rows × 5 columns</p>\n",
              "</div>"
            ],
            "text/plain": [
              "           ID CHECKING_BALANCE  ... EXISTING_SAVINGS EXISTING_CREDITS_COUNT\n",
              "0      291655          -566.53  ...            36.42                    1.0\n",
              "1      657079         -1673.16  ...             22.9                    1.0\n",
              "2      256050      NO_CHECKING  ...           450.35                    2.0\n",
              "3     1039151         -1471.03  ...           805.71                    2.0\n",
              "4     1002660      NO_CHECKING  ...           295.03                    1.0\n",
              "...       ...              ...  ...              ...                    ...\n",
              "2472   636739           163.82  ...           472.11                    1.0\n",
              "2473   919733         14324.23  ...         18652.44                    1.0\n",
              "2474   115839           130.13  ...           726.78                    2.0\n",
              "2475  1128684      NO_CHECKING  ...          UNKNOWN                    1.0\n",
              "2476     5547      NO_CHECKING  ...          UNKNOWN                    2.0\n",
              "\n",
              "[2477 rows x 5 columns]"
            ]
          },
          "metadata": {},
          "execution_count": 36
        }
      ]
    },
    {
      "cell_type": "markdown",
      "metadata": {
        "id": "AROJjycCICqc"
      },
      "source": [
        "CHECKING_BALANCE = VERIFICAÇÃO DO SALDO\n",
        "\n",
        "CREDIT_HISTORY = HISTÓRICO DE CRÉDITO\n",
        "\n",
        "EXISTING_SAVINGS\t = ECONOMIAS EXISTENTES\n",
        "\n",
        "EXISTING_CREDITS_COUNT = CONTAGEM DE CRÉDITOS EXISTENTES"
      ]
    },
    {
      "cell_type": "code",
      "metadata": {
        "id": "s9Yv-CXkIq6j"
      },
      "source": [
        "loans = pd.read_csv('/content/ACCOUNTS.csv')"
      ],
      "execution_count": 37,
      "outputs": []
    },
    {
      "cell_type": "code",
      "metadata": {
        "colab": {
          "base_uri": "https://localhost:8080/"
        },
        "id": "AmaaviDbIyNr",
        "outputId": "1b3c50cc-bd7f-4c29-c8a9-19d3727e774b"
      },
      "source": [
        "loans.info()"
      ],
      "execution_count": 38,
      "outputs": [
        {
          "output_type": "stream",
          "name": "stdout",
          "text": [
            "<class 'pandas.core.frame.DataFrame'>\n",
            "RangeIndex: 2477 entries, 0 to 2476\n",
            "Data columns (total 5 columns):\n",
            " #   Column                  Non-Null Count  Dtype  \n",
            "---  ------                  --------------  -----  \n",
            " 0   ID                      2477 non-null   int64  \n",
            " 1   CHECKING_BALANCE        2467 non-null   object \n",
            " 2   CREDIT_HISTORY          2462 non-null   object \n",
            " 3   EXISTING_SAVINGS        2467 non-null   object \n",
            " 4   EXISTING_CREDITS_COUNT  2463 non-null   float64\n",
            "dtypes: float64(1), int64(1), object(3)\n",
            "memory usage: 96.9+ KB\n"
          ]
        }
      ]
    },
    {
      "cell_type": "code",
      "metadata": {
        "colab": {
          "base_uri": "https://localhost:8080/",
          "height": 297
        },
        "id": "P9IA5ybJI2TK",
        "outputId": "fcf4b610-c256-4a64-efb8-3db4e88a1ec0"
      },
      "source": [
        "loans.describe()"
      ],
      "execution_count": 39,
      "outputs": [
        {
          "output_type": "execute_result",
          "data": {
            "text/html": [
              "<div>\n",
              "<style scoped>\n",
              "    .dataframe tbody tr th:only-of-type {\n",
              "        vertical-align: middle;\n",
              "    }\n",
              "\n",
              "    .dataframe tbody tr th {\n",
              "        vertical-align: top;\n",
              "    }\n",
              "\n",
              "    .dataframe thead th {\n",
              "        text-align: right;\n",
              "    }\n",
              "</style>\n",
              "<table border=\"1\" class=\"dataframe\">\n",
              "  <thead>\n",
              "    <tr style=\"text-align: right;\">\n",
              "      <th></th>\n",
              "      <th>ID</th>\n",
              "      <th>EXISTING_CREDITS_COUNT</th>\n",
              "    </tr>\n",
              "  </thead>\n",
              "  <tbody>\n",
              "    <tr>\n",
              "      <th>count</th>\n",
              "      <td>2.477000e+03</td>\n",
              "      <td>2463.000000</td>\n",
              "    </tr>\n",
              "    <tr>\n",
              "      <th>mean</th>\n",
              "      <td>6.683799e+05</td>\n",
              "      <td>1.469752</td>\n",
              "    </tr>\n",
              "    <tr>\n",
              "      <th>std</th>\n",
              "      <td>3.730570e+05</td>\n",
              "      <td>0.569142</td>\n",
              "    </tr>\n",
              "    <tr>\n",
              "      <th>min</th>\n",
              "      <td>9.800000e+01</td>\n",
              "      <td>1.000000</td>\n",
              "    </tr>\n",
              "    <tr>\n",
              "      <th>25%</th>\n",
              "      <td>3.521920e+05</td>\n",
              "      <td>1.000000</td>\n",
              "    </tr>\n",
              "    <tr>\n",
              "      <th>50%</th>\n",
              "      <td>6.809460e+05</td>\n",
              "      <td>1.000000</td>\n",
              "    </tr>\n",
              "    <tr>\n",
              "      <th>75%</th>\n",
              "      <td>9.857560e+05</td>\n",
              "      <td>2.000000</td>\n",
              "    </tr>\n",
              "    <tr>\n",
              "      <th>max</th>\n",
              "      <td>1.319964e+06</td>\n",
              "      <td>3.000000</td>\n",
              "    </tr>\n",
              "  </tbody>\n",
              "</table>\n",
              "</div>"
            ],
            "text/plain": [
              "                 ID  EXISTING_CREDITS_COUNT\n",
              "count  2.477000e+03             2463.000000\n",
              "mean   6.683799e+05                1.469752\n",
              "std    3.730570e+05                0.569142\n",
              "min    9.800000e+01                1.000000\n",
              "25%    3.521920e+05                1.000000\n",
              "50%    6.809460e+05                1.000000\n",
              "75%    9.857560e+05                2.000000\n",
              "max    1.319964e+06                3.000000"
            ]
          },
          "metadata": {},
          "execution_count": 39
        }
      ]
    },
    {
      "cell_type": "code",
      "metadata": {
        "colab": {
          "base_uri": "https://localhost:8080/"
        },
        "id": "PsPQShdmI6n6",
        "outputId": "7c611b6e-6564-4b89-b135-3c8921c3de3f"
      },
      "source": [
        "loans.isnull().sum()"
      ],
      "execution_count": 40,
      "outputs": [
        {
          "output_type": "execute_result",
          "data": {
            "text/plain": [
              "ID                         0\n",
              "CHECKING_BALANCE          10\n",
              "CREDIT_HISTORY            15\n",
              "EXISTING_SAVINGS          10\n",
              "EXISTING_CREDITS_COUNT    14\n",
              "dtype: int64"
            ]
          },
          "metadata": {},
          "execution_count": 40
        }
      ]
    },
    {
      "cell_type": "code",
      "metadata": {
        "id": "okpWcPXZI-IK"
      },
      "source": [
        "loans.fillna(0,inplace = True)"
      ],
      "execution_count": 41,
      "outputs": []
    },
    {
      "cell_type": "code",
      "metadata": {
        "colab": {
          "base_uri": "https://localhost:8080/",
          "height": 204
        },
        "id": "OofwoASWJCSi",
        "outputId": "5626a3ee-e9c7-449c-af2a-552964feff00"
      },
      "source": [
        "loans.head()"
      ],
      "execution_count": 42,
      "outputs": [
        {
          "output_type": "execute_result",
          "data": {
            "text/html": [
              "<div>\n",
              "<style scoped>\n",
              "    .dataframe tbody tr th:only-of-type {\n",
              "        vertical-align: middle;\n",
              "    }\n",
              "\n",
              "    .dataframe tbody tr th {\n",
              "        vertical-align: top;\n",
              "    }\n",
              "\n",
              "    .dataframe thead th {\n",
              "        text-align: right;\n",
              "    }\n",
              "</style>\n",
              "<table border=\"1\" class=\"dataframe\">\n",
              "  <thead>\n",
              "    <tr style=\"text-align: right;\">\n",
              "      <th></th>\n",
              "      <th>ID</th>\n",
              "      <th>CHECKING_BALANCE</th>\n",
              "      <th>CREDIT_HISTORY</th>\n",
              "      <th>EXISTING_SAVINGS</th>\n",
              "      <th>EXISTING_CREDITS_COUNT</th>\n",
              "    </tr>\n",
              "  </thead>\n",
              "  <tbody>\n",
              "    <tr>\n",
              "      <th>0</th>\n",
              "      <td>291655</td>\n",
              "      <td>-566.53</td>\n",
              "      <td>ALL_CREDITS_PAID_BACK</td>\n",
              "      <td>36.42</td>\n",
              "      <td>1.0</td>\n",
              "    </tr>\n",
              "    <tr>\n",
              "      <th>1</th>\n",
              "      <td>657079</td>\n",
              "      <td>-1673.16</td>\n",
              "      <td>CREDITS_PAID_TO_DATE</td>\n",
              "      <td>22.9</td>\n",
              "      <td>1.0</td>\n",
              "    </tr>\n",
              "    <tr>\n",
              "      <th>2</th>\n",
              "      <td>256050</td>\n",
              "      <td>NO_CHECKING</td>\n",
              "      <td>CREDITS_PAID_TO_DATE</td>\n",
              "      <td>450.35</td>\n",
              "      <td>2.0</td>\n",
              "    </tr>\n",
              "    <tr>\n",
              "      <th>3</th>\n",
              "      <td>1039151</td>\n",
              "      <td>-1471.03</td>\n",
              "      <td>PRIOR_PAYMENTS_DELAYED</td>\n",
              "      <td>805.71</td>\n",
              "      <td>2.0</td>\n",
              "    </tr>\n",
              "    <tr>\n",
              "      <th>4</th>\n",
              "      <td>1002660</td>\n",
              "      <td>NO_CHECKING</td>\n",
              "      <td>CREDITS_PAID_TO_DATE</td>\n",
              "      <td>295.03</td>\n",
              "      <td>1.0</td>\n",
              "    </tr>\n",
              "  </tbody>\n",
              "</table>\n",
              "</div>"
            ],
            "text/plain": [
              "        ID CHECKING_BALANCE  ... EXISTING_SAVINGS EXISTING_CREDITS_COUNT\n",
              "0   291655          -566.53  ...            36.42                    1.0\n",
              "1   657079         -1673.16  ...             22.9                    1.0\n",
              "2   256050      NO_CHECKING  ...           450.35                    2.0\n",
              "3  1039151         -1471.03  ...           805.71                    2.0\n",
              "4  1002660      NO_CHECKING  ...           295.03                    1.0\n",
              "\n",
              "[5 rows x 5 columns]"
            ]
          },
          "metadata": {},
          "execution_count": 42
        }
      ]
    },
    {
      "cell_type": "code",
      "metadata": {
        "colab": {
          "base_uri": "https://localhost:8080/"
        },
        "id": "n0ngl_-hJFYS",
        "outputId": "d4a0da47-2f7f-46f4-eedd-df002d4044d3"
      },
      "source": [
        "loans.isnull().sum()"
      ],
      "execution_count": 43,
      "outputs": [
        {
          "output_type": "execute_result",
          "data": {
            "text/plain": [
              "ID                        0\n",
              "CHECKING_BALANCE          0\n",
              "CREDIT_HISTORY            0\n",
              "EXISTING_SAVINGS          0\n",
              "EXISTING_CREDITS_COUNT    0\n",
              "dtype: int64"
            ]
          },
          "metadata": {},
          "execution_count": 43
        }
      ]
    },
    {
      "cell_type": "markdown",
      "metadata": {
        "id": "ZAU4ZfHrtbzL"
      },
      "source": [
        "**Tratamento dos dados**\n",
        "\n",
        "Uma vez que exploramos os dados, entendemos a importância de cada coluna e podemos fazer alterações nelas para para obter um melhor resultado. Aqui, vamos fazer apenas um tratamento simples, de remover do dataset as linhas que tiverem faltando algum valor. Não necessariamente essa técnica é a melhor para se utilizar no desafio, é apenas um exemplo de como tratar o dataset.\n",
        "\n",
        "Para tratamentos mais avançados, como modificação de colunas ou criação de novas colunas, veja mais abaixo no Notebook, em que explicamos como utilizar as Pipelines, da biblioteca sklearn, para realizar transformações nos dados.\n",
        "\n",
        "https://medium.com/data-hackers/machine-learning-para-avalia%C3%A7%C3%A3o-de-risco-de-cr%C3%A9dito-49578b03b4b8\n",
        "\n",
        "https://matheus-buniotto.medium.com/detec%C3%A7%C3%A3o-de-fraudes-em-cart%C3%B5es-de-cr%C3%A9dito-com-machine-learning-e000d26ab30b"
      ]
    },
    {
      "cell_type": "code",
      "metadata": {
        "id": "oqdD0STmIjtD"
      },
      "source": [
        ""
      ],
      "execution_count": null,
      "outputs": []
    },
    {
      "cell_type": "code",
      "metadata": {
        "colab": {
          "base_uri": "https://localhost:8080/"
        },
        "id": "DNTTdyWbtqx4",
        "outputId": "2c0c3769-baa4-4e7f-a27a-6e3b2fcb9041"
      },
      "source": [
        "clean_df = loans.dropna()\n",
        "clean_df.count()"
      ],
      "execution_count": 19,
      "outputs": [
        {
          "output_type": "execute_result",
          "data": {
            "text/plain": [
              "ID                     3999\n",
              "PAYMENT_TERM           3999\n",
              "INSTALLMENT_PLANS      3999\n",
              "INSTALLMENT_PERCENT    3999\n",
              "LOAN_PURPOSE           3999\n",
              "LOAN_AMOUNT            3999\n",
              "OTHERS_ON_LOAN         3999\n",
              "ALLOW                  3999\n",
              "dtype: int64"
            ]
          },
          "metadata": {},
          "execution_count": 19
        }
      ]
    },
    {
      "cell_type": "markdown",
      "metadata": {
        "id": "Ddw-dxW7urVS"
      },
      "source": [
        "Podemos observar que agora temos um dataset \"limpo\", mas perdemos alguns dados por remover as linhas em que pelo menos uma coluna estava faltando.\n",
        "\n",
        "Observando a execução do método .info() acima, podemos ver que existem três colunas do tipo object. O modelo do scikit-learn que vamos usar não é capaz de processar uma variável desse tipo. Portanto, para dar seguimento ao experimento, vamos remover essa coluna. Recomendamos que você use alguma técnica para tratamento de variáveis categóricas, como o one-hot encoding, em vez de remover a coluna.\n",
        "\n",
        "Vamos também remover a coluna ID, pois sabemos que ela não é uma informação útil para a predição (é apenas um número identificando um cliente)."
      ]
    },
    {
      "cell_type": "code",
      "metadata": {
        "id": "BOKt39rKuynm"
      },
      "source": [
        "object_columns = ['INSTALLMENT_PLANS', 'LOAN_PURPOSE', 'OTHERS_ON_LOAN']\n",
        "clean_df = clean_df.drop(object_columns, axis=1)\n",
        "clean_df = clean_df.drop('ID', axis=1)"
      ],
      "execution_count": 20,
      "outputs": []
    },
    {
      "cell_type": "code",
      "metadata": {
        "colab": {
          "base_uri": "https://localhost:8080/"
        },
        "id": "QeucW2dqu1hO",
        "outputId": "e56e733b-18f6-48ec-db91-4e574bd00903"
      },
      "source": [
        "clean_df.info()"
      ],
      "execution_count": 21,
      "outputs": [
        {
          "output_type": "stream",
          "name": "stdout",
          "text": [
            "<class 'pandas.core.frame.DataFrame'>\n",
            "Int64Index: 3999 entries, 0 to 3998\n",
            "Data columns (total 4 columns):\n",
            " #   Column               Non-Null Count  Dtype  \n",
            "---  ------               --------------  -----  \n",
            " 0   PAYMENT_TERM         3999 non-null   float64\n",
            " 1   INSTALLMENT_PERCENT  3999 non-null   float64\n",
            " 2   LOAN_AMOUNT          3999 non-null   float64\n",
            " 3   ALLOW                3999 non-null   int64  \n",
            "dtypes: float64(3), int64(1)\n",
            "memory usage: 156.2 KB\n"
          ]
        }
      ]
    },
    {
      "cell_type": "markdown",
      "metadata": {
        "id": "FR1ktBkSu42L"
      },
      "source": [
        "Criação do modelo\n",
        "Com os dados prontos, podemos selecionar um modelo de Machine Learning para treinar com nossos dados. Nesse exemplo, vamos utilizar um modelo de classificação básico, o de Árvore de Decisão.\n",
        "\n",
        "Para conseguir avaliar o desempenho do nosso modelo, vamos dividir os dados que temos entre dados de treino e de teste, e assim, após o treinamento, verificar como ele está se saindo com as predições."
      ]
    },
    {
      "cell_type": "code",
      "metadata": {
        "id": "kACxhLNhu622"
      },
      "source": [
        "from sklearn.tree import DecisionTreeClassifier\n",
        "from sklearn.model_selection import train_test_split\n",
        "from sklearn.metrics import accuracy_score"
      ],
      "execution_count": 22,
      "outputs": []
    },
    {
      "cell_type": "markdown",
      "metadata": {
        "id": "izU4Dt0WvD32"
      },
      "source": [
        "Abaixo, separamos os dados que queremos predizer dos dados que utilizamos como informações para a predição."
      ]
    },
    {
      "cell_type": "code",
      "metadata": {
        "id": "HDVbuToPvFim"
      },
      "source": [
        "features = ['PAYMENT_TERM', 'INSTALLMENT_PERCENT', 'LOAN_AMOUNT']\n",
        "target = ['ALLOW']\n",
        "\n",
        "X = clean_df[features]\n",
        "y = clean_df[target]"
      ],
      "execution_count": 23,
      "outputs": []
    },
    {
      "cell_type": "code",
      "metadata": {
        "colab": {
          "base_uri": "https://localhost:8080/"
        },
        "id": "JWT97tlgvIkl",
        "outputId": "cea15b26-c072-461e-856e-1b7765344aad"
      },
      "source": [
        "test_pct = 0.3 # Separaremos 30% dos dados para testes\n",
        "X_train, X_test, y_train, y_test = train_test_split(X, y, test_size=test_pct)\n",
        "\n",
        "model = DecisionTreeClassifier()\n",
        "model.fit(X_train, y_train)\n",
        "\n",
        "y_pred = model.predict(X_test)\n",
        "acc = accuracy_score(y_test, y_pred)\n",
        "print(f\"Acurácia do modelo (número de predições assertivas sobre número total de testes): {acc}\")"
      ],
      "execution_count": 24,
      "outputs": [
        {
          "output_type": "stream",
          "name": "stdout",
          "text": [
            "Acurácia do modelo (número de predições assertivas sobre número total de testes): 0.6708333333333333\n"
          ]
        }
      ]
    },
    {
      "cell_type": "markdown",
      "metadata": {
        "id": "9CCxgEH7vMWm"
      },
      "source": [
        "Apesar de estarmos utilizando somente algumas variáveis do dataset carregado, o desafio espera um modelo que aceite todas as variáveis dos conjuntos de dados disponíveis. Portanto, vamos utilizar um transformador para transformar os dados de entrada, removendo as colunas que não queremos, antes enviá-los ao nosso modelo. Dessa forma, criaremos uma Pipeline, que utiliza o transformador como entrada, e o nosso modelo em seguida.\n",
        "\n",
        "Fica como tarefa para você unir os outros conjuntos de dados disponíveis e utilizá-los também para predições no modelo, em vez de remover as colunas.\n",
        "\n",
        "**Sobre Pipelines**\n",
        "\n",
        "Uma Pipeline, da biblioteca scikit-learn, consiste em uma série de passos onde realizamos transformações em dados. As transformações são definidas por classes que devem ter sempre **dois métodos**:\n",
        "\n",
        "**fit**: Um método que recebe dados de treinamento, e retorna a própria instância da classe. Ele é aplicado quando se vai treinar utilizar uma Pipeline para treinar um modelo.\n",
        "\n",
        "**transform**: Um método que recebe como entrada um conjunto de dados e deve retornar um outro conjunto de dados, transformado. Ele é aplicado em cada etapa da Pipeline, recebendo os dados do passo anterior e transformando-os.\n",
        "Veja abaixo uma representação gráfica do funcionamento de uma Pipeline:"
      ]
    },
    {
      "cell_type": "markdown",
      "metadata": {
        "id": "HxGFlZ5Jv6Uu"
      },
      "source": [
        "![image.png](data:image/png;base64,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)"
      ]
    },
    {
      "cell_type": "markdown",
      "metadata": {
        "id": "BHBal3dJvnRI"
      },
      "source": [
        "Nesse Notebook, vamos criar uma Pipeline muito similar ao exemplo acima, com dois estágios:\n",
        "\n",
        "**drop_columns**: Remove as colunas indesejadas do conjunto de dados de entrada.\n",
        "\n",
        "**classification**: Alimenta um modelo de classificação com os dados obtidos no estágio **drop_columns**, podendo ser tanto para treinamento quanto para obter uma predição.\n",
        "\n",
        "**Criação de Pipelines** no scikit-learn\n",
        "\n",
        "Para criar um modelo capaz de fazer transformações nos dados de entrada, vamos criar uma Pipeline do scikit-learn e aplicar nossas transformações dentro dos estágios dela.\n",
        "\n",
        "Abaixo, definimos um transformador exemplo, que irá remover as colunas passadas como parâmetro em sua inicialização:"
      ]
    },
    {
      "cell_type": "code",
      "metadata": {
        "id": "jdeASGfSwIU-"
      },
      "source": [
        "from sklearn.base import BaseEstimator, TransformerMixin\n",
        "from sklearn.pipeline import Pipeline\n",
        "\n",
        "\n",
        "# Um transformador para remover colunas indesejadas\n",
        "class DropColumns(BaseEstimator, TransformerMixin):\n",
        "    def __init__(self, columns):\n",
        "        self.columns = columns\n",
        "\n",
        "    def fit(self, X, y=None):\n",
        "        return self\n",
        "\n",
        "    def transform(self, X):\n",
        "        # Primeiro realizamos a cópia do DataFrame 'X' de entrada\n",
        "        data = X.copy()\n",
        "        # Retornamos um novo dataframe sem as colunas indesejadas\n",
        "        return data.drop(labels=self.columns, axis='columns')"
      ],
      "execution_count": 25,
      "outputs": []
    },
    {
      "cell_type": "markdown",
      "metadata": {
        "id": "mMbxVu3VwWdN"
      },
      "source": [
        "Tanto o método fit quanto o transform devem obrigatoriamente ser definidos, mesmo se não forem fazer nada de diferente, como no caso do fit acima.\n",
        "\n",
        "Da mesma forma, você pode criar outros transformadores, para outros propósitos, sempre herdando das classes BaseEstimator e TransformerMixin. Você pode utilizar um transformador para, por exemplo, criar novas colunas, editar tipos de dados de colunas existentes, entre outros.\n",
        "\n",
        "Agora, vamos criar uma Pipeline para utilização do nosso modelo, aceitando todas as colunas esperadas pelo desafio e removendo as que não queremos usar."
      ]
    },
    {
      "cell_type": "code",
      "metadata": {
        "id": "PUi1I8ziwae9"
      },
      "source": [
        "challenge_columns = ['ID', 'CHECKING_BALANCE', 'PAYMENT_TERM', 'CREDIT_HISTORY',\n",
        "       'LOAN_PURPOSE', 'LOAN_AMOUNT', 'EXISTING_SAVINGS',\n",
        "       'EMPLOYMENT_DURATION', 'INSTALLMENT_PERCENT', 'SEX', 'OTHERS_ON_LOAN',\n",
        "       'CURRENT_RESIDENCE_DURATION', 'PROPERTY', 'AGE', 'INSTALLMENT_PLANS',\n",
        "       'HOUSING', 'EXISTING_CREDITS_COUNT', 'JOB_TYPE', 'DEPENDENTS',\n",
        "       'TELEPHONE', 'FOREIGN_WORKER', 'ALLOW']\n",
        "\n",
        "unwanted_columns = list((set(challenge_columns) - set(target)) - set(features)) # Remover todas as colunas que não são features do nosso modelo"
      ],
      "execution_count": 26,
      "outputs": []
    },
    {
      "cell_type": "code",
      "metadata": {
        "id": "4CZgV-0uwgw1"
      },
      "source": [
        "# Criando uma instância do transformador, passando como parâmetro as colunas que não queremos\n",
        "drop_columns = DropColumns(unwanted_columns)\n",
        "\n",
        "\n",
        "# Criando a Pipeline, adicionando o nosso transformador seguido de um modelo de árvore de decisão\n",
        "skl_pipeline = Pipeline(steps=[('drop_columns', drop_columns), ('classification', model)])"
      ],
      "execution_count": 27,
      "outputs": []
    },
    {
      "cell_type": "markdown",
      "metadata": {
        "id": "p6GeBDjbwnJ9"
      },
      "source": [
        "Pronto! Essa pipeline agora está pronta para receber todas as variáveis do desafio, apesar de o modelo só usar algumas.\n",
        "\n",
        "**Deploy do modelo para o Watson Machine Learning (WML)**\n",
        "\n",
        "Agora temos o modelo pronto para publicação, queremos deixá-lo online para que o sistema da Maratona possa testá-lo :)\n",
        "\n",
        "Para isso, vamos utilizar a biblioteca IBM Watson Machine Learning, que permite realizar o encapsulamento de modelos de Machine Learning em APIs REST."
      ]
    },
    {
      "cell_type": "code",
      "metadata": {
        "colab": {
          "base_uri": "https://localhost:8080/"
        },
        "id": "ZOM0KJ_jword",
        "outputId": "9e613685-6225-48fe-f6b9-a4322854f5c6"
      },
      "source": [
        "# Instalar a biblioteca do WML\n",
        "!pip install -U ibm-watson-machine-learning"
      ],
      "execution_count": 28,
      "outputs": [
        {
          "output_type": "stream",
          "name": "stdout",
          "text": [
            "Requirement already satisfied: ibm-watson-machine-learning in /usr/local/lib/python3.7/dist-packages (1.0.173)\n",
            "Requirement already satisfied: pandas<1.3.0,>=0.24.2 in /usr/local/lib/python3.7/dist-packages (from ibm-watson-machine-learning) (1.1.5)\n",
            "Requirement already satisfied: importlib-resources in /usr/local/lib/python3.7/dist-packages (from ibm-watson-machine-learning) (5.4.0)\n",
            "Requirement already satisfied: lomond in /usr/local/lib/python3.7/dist-packages (from ibm-watson-machine-learning) (0.3.3)\n",
            "Requirement already satisfied: tabulate in /usr/local/lib/python3.7/dist-packages (from ibm-watson-machine-learning) (0.8.9)\n",
            "Requirement already satisfied: packaging in /usr/local/lib/python3.7/dist-packages (from ibm-watson-machine-learning) (21.2)\n",
            "Requirement already satisfied: ibm-cos-sdk==2.7.* in /usr/local/lib/python3.7/dist-packages (from ibm-watson-machine-learning) (2.7.0)\n",
            "Requirement already satisfied: requests in /usr/local/lib/python3.7/dist-packages (from ibm-watson-machine-learning) (2.23.0)\n",
            "Requirement already satisfied: urllib3 in /usr/local/lib/python3.7/dist-packages (from ibm-watson-machine-learning) (1.24.3)\n",
            "Requirement already satisfied: certifi in /usr/local/lib/python3.7/dist-packages (from ibm-watson-machine-learning) (2021.10.8)\n",
            "Requirement already satisfied: ibm-cos-sdk-s3transfer==2.7.0 in /usr/local/lib/python3.7/dist-packages (from ibm-cos-sdk==2.7.*->ibm-watson-machine-learning) (2.7.0)\n",
            "Requirement already satisfied: ibm-cos-sdk-core==2.7.0 in /usr/local/lib/python3.7/dist-packages (from ibm-cos-sdk==2.7.*->ibm-watson-machine-learning) (2.7.0)\n",
            "Requirement already satisfied: jmespath<1.0.0,>=0.7.1 in /usr/local/lib/python3.7/dist-packages (from ibm-cos-sdk==2.7.*->ibm-watson-machine-learning) (0.10.0)\n",
            "Requirement already satisfied: docutils<0.16,>=0.10 in /usr/local/lib/python3.7/dist-packages (from ibm-cos-sdk-core==2.7.0->ibm-cos-sdk==2.7.*->ibm-watson-machine-learning) (0.15.2)\n",
            "Requirement already satisfied: python-dateutil<3.0.0,>=2.1 in /usr/local/lib/python3.7/dist-packages (from ibm-cos-sdk-core==2.7.0->ibm-cos-sdk==2.7.*->ibm-watson-machine-learning) (2.8.2)\n",
            "Requirement already satisfied: numpy>=1.15.4 in /usr/local/lib/python3.7/dist-packages (from pandas<1.3.0,>=0.24.2->ibm-watson-machine-learning) (1.19.5)\n",
            "Requirement already satisfied: pytz>=2017.2 in /usr/local/lib/python3.7/dist-packages (from pandas<1.3.0,>=0.24.2->ibm-watson-machine-learning) (2018.9)\n",
            "Requirement already satisfied: six>=1.5 in /usr/local/lib/python3.7/dist-packages (from python-dateutil<3.0.0,>=2.1->ibm-cos-sdk-core==2.7.0->ibm-cos-sdk==2.7.*->ibm-watson-machine-learning) (1.15.0)\n",
            "Requirement already satisfied: chardet<4,>=3.0.2 in /usr/local/lib/python3.7/dist-packages (from requests->ibm-watson-machine-learning) (3.0.4)\n",
            "Requirement already satisfied: idna<3,>=2.5 in /usr/local/lib/python3.7/dist-packages (from requests->ibm-watson-machine-learning) (2.10)\n",
            "Requirement already satisfied: zipp>=3.1.0 in /usr/local/lib/python3.7/dist-packages (from importlib-resources->ibm-watson-machine-learning) (3.6.0)\n",
            "Requirement already satisfied: pyparsing<3,>=2.0.2 in /usr/local/lib/python3.7/dist-packages (from packaging->ibm-watson-machine-learning) (2.4.7)\n"
          ]
        }
      ]
    },
    {
      "cell_type": "code",
      "metadata": {
        "id": "3Z-v-xfEwwGt"
      },
      "source": [
        "from ibm_watson_machine_learning import APIClient"
      ],
      "execution_count": 29,
      "outputs": []
    },
    {
      "cell_type": "markdown",
      "metadata": {
        "id": "M998gOK-w0h0"
      },
      "source": [
        "Caso ainda não tiver criado, crie um serviço de Machine Learning aqui: https://cloud.ibm.com/catalog/services/machine-learning.\n",
        "\n",
        "Insira suas credenciais para o serviço na célula abaixo.\n",
        "\n",
        "Em location, insira o ID da região onde se encontra o seu serviço WML instanciado, de acordo com as possibilidades abaixo:\n",
        "\n",
        "Dallas - us-south\n",
        "London - eu-gb\n",
        "Frankfurt - eu-de\n",
        "Tokyo - jp-tok\n",
        "Para a API key, você deve gerá-la aqui: https://cloud.ibm.com/iam/apikeys. Não compartilhe-a com ninguém! Uma API key dá acesso à sua conta IBM Cloud."
      ]
    },
    {
      "cell_type": "code",
      "metadata": {
        "colab": {
          "base_uri": "https://localhost:8080/",
          "height": 391
        },
        "id": "7c4_0NWmxB3-",
        "outputId": "77f09e11-60f2-4b3a-b9f7-7b0553bdf9e4"
      },
      "source": [
        "api_key = 'INSIRA SUA API KEY AQUI'\n",
        "location = 'us-south' # Caso o WML estiver em uma região diferente, altere\n",
        "\n",
        "wml_credentials = {\n",
        "    \"apikey\": api_key,\n",
        "    \"url\": 'https://' + location + '.ml.cloud.ibm.com'\n",
        "}\n",
        "\n",
        "client = APIClient(wml_credentials)"
      ],
      "execution_count": 30,
      "outputs": [
        {
          "output_type": "stream",
          "name": "stderr",
          "text": [
            "Error getting IAM Token.\n",
            "Reason: <Response [400]>\n"
          ]
        },
        {
          "output_type": "error",
          "ename": "WMLClientError",
          "evalue": "ignored",
          "traceback": [
            "\u001b[0;31m---------------------------------------------------------------------------\u001b[0m",
            "\u001b[0;31mWMLClientError\u001b[0m                            Traceback (most recent call last)",
            "\u001b[0;32m<ipython-input-30-35eea3ab60cb>\u001b[0m in \u001b[0;36m<module>\u001b[0;34m()\u001b[0m\n\u001b[1;32m      7\u001b[0m }\n\u001b[1;32m      8\u001b[0m \u001b[0;34m\u001b[0m\u001b[0m\n\u001b[0;32m----> 9\u001b[0;31m \u001b[0mclient\u001b[0m \u001b[0;34m=\u001b[0m \u001b[0mAPIClient\u001b[0m\u001b[0;34m(\u001b[0m\u001b[0mwml_credentials\u001b[0m\u001b[0;34m)\u001b[0m\u001b[0;34m\u001b[0m\u001b[0;34m\u001b[0m\u001b[0m\n\u001b[0m",
            "\u001b[0;32m/usr/local/lib/python3.7/dist-packages/ibm_watson_machine_learning/client.py\u001b[0m in \u001b[0;36m__init__\u001b[0;34m(self, wml_credentials, project_id)\u001b[0m\n\u001b[1;32m    308\u001b[0m                     \u001b[0mprint\u001b[0m\u001b[0;34m(\u001b[0m\u001b[0mMessages\u001b[0m\u001b[0;34m.\u001b[0m\u001b[0mget_message\u001b[0m\u001b[0;34m(\u001b[0m\u001b[0mmessage_id\u001b[0m\u001b[0;34m=\u001b[0m\u001b[0;34m\"python_3_6_framework_is_deprecated_cp4d\"\u001b[0m\u001b[0;34m)\u001b[0m\u001b[0;34m)\u001b[0m\u001b[0;34m\u001b[0m\u001b[0;34m\u001b[0m\u001b[0m\n\u001b[1;32m    309\u001b[0m \u001b[0;34m\u001b[0m\u001b[0m\n\u001b[0;32m--> 310\u001b[0;31m             \u001b[0mself\u001b[0m\u001b[0;34m.\u001b[0m\u001b[0mservice_instance\u001b[0m \u001b[0;34m=\u001b[0m \u001b[0mServiceInstanceNewPlan\u001b[0m\u001b[0;34m(\u001b[0m\u001b[0mself\u001b[0m\u001b[0;34m)\u001b[0m\u001b[0;34m\u001b[0m\u001b[0;34m\u001b[0m\u001b[0m\n\u001b[0m\u001b[1;32m    311\u001b[0m             \u001b[0mself\u001b[0m\u001b[0;34m.\u001b[0m\u001b[0mvolumes\u001b[0m \u001b[0;34m=\u001b[0m \u001b[0mVolume\u001b[0m\u001b[0;34m(\u001b[0m\u001b[0mself\u001b[0m\u001b[0;34m)\u001b[0m\u001b[0;34m\u001b[0m\u001b[0;34m\u001b[0m\u001b[0m\n\u001b[1;32m    312\u001b[0m \u001b[0;34m\u001b[0m\u001b[0m\n",
            "\u001b[0;32m/usr/local/lib/python3.7/dist-packages/ibm_watson_machine_learning/instance_new_plan.py\u001b[0m in \u001b[0;36m__init__\u001b[0;34m(self, client)\u001b[0m\n\u001b[1;32m     51\u001b[0m                                                  )\n\u001b[1;32m     52\u001b[0m \u001b[0;34m\u001b[0m\u001b[0m\n\u001b[0;32m---> 53\u001b[0;31m         \u001b[0mself\u001b[0m\u001b[0;34m.\u001b[0m\u001b[0m_client\u001b[0m\u001b[0;34m.\u001b[0m\u001b[0mwml_token\u001b[0m \u001b[0;34m=\u001b[0m \u001b[0mself\u001b[0m\u001b[0;34m.\u001b[0m\u001b[0m_create_token\u001b[0m\u001b[0;34m(\u001b[0m\u001b[0;34m)\u001b[0m\u001b[0;34m\u001b[0m\u001b[0;34m\u001b[0m\u001b[0m\n\u001b[0m\u001b[1;32m     54\u001b[0m         \u001b[0mself\u001b[0m\u001b[0;34m.\u001b[0m\u001b[0m_logger\u001b[0m\u001b[0;34m.\u001b[0m\u001b[0minfo\u001b[0m\u001b[0;34m(\u001b[0m\u001b[0;34mu'Successfully prepared token: '\u001b[0m \u001b[0;34m+\u001b[0m \u001b[0mself\u001b[0m\u001b[0;34m.\u001b[0m\u001b[0m_client\u001b[0m\u001b[0;34m.\u001b[0m\u001b[0mwml_token\u001b[0m\u001b[0;34m)\u001b[0m\u001b[0;34m\u001b[0m\u001b[0;34m\u001b[0m\u001b[0m\n\u001b[1;32m     55\u001b[0m         \u001b[0;31m# ml_repository_client is initialized in repo\u001b[0m\u001b[0;34m\u001b[0m\u001b[0;34m\u001b[0m\u001b[0;34m\u001b[0m\u001b[0m\n",
            "\u001b[0;32m/usr/local/lib/python3.7/dist-packages/ibm_watson_machine_learning/instance_new_plan.py\u001b[0m in \u001b[0;36m_create_token\u001b[0;34m(self)\u001b[0m\n\u001b[1;32m    230\u001b[0m         \u001b[0;32mif\u001b[0m \u001b[0;32mnot\u001b[0m \u001b[0mself\u001b[0m\u001b[0;34m.\u001b[0m\u001b[0m_client\u001b[0m\u001b[0;34m.\u001b[0m\u001b[0mICP_PLATFORM_SPACES\u001b[0m\u001b[0;34m:\u001b[0m\u001b[0;34m\u001b[0m\u001b[0;34m\u001b[0m\u001b[0m\n\u001b[1;32m    231\u001b[0m             \u001b[0;32mif\u001b[0m \u001b[0mself\u001b[0m\u001b[0;34m.\u001b[0m\u001b[0m_client\u001b[0m\u001b[0;34m.\u001b[0m\u001b[0m_is_IAM\u001b[0m\u001b[0;34m(\u001b[0m\u001b[0;34m)\u001b[0m\u001b[0;34m:\u001b[0m\u001b[0;34m\u001b[0m\u001b[0;34m\u001b[0m\u001b[0m\n\u001b[0;32m--> 232\u001b[0;31m                 \u001b[0;32mreturn\u001b[0m \u001b[0mself\u001b[0m\u001b[0;34m.\u001b[0m\u001b[0m_get_IAM_token\u001b[0m\u001b[0;34m(\u001b[0m\u001b[0;34m)\u001b[0m\u001b[0;34m\u001b[0m\u001b[0;34m\u001b[0m\u001b[0m\n\u001b[0m\u001b[1;32m    233\u001b[0m             \u001b[0;32melse\u001b[0m\u001b[0;34m:\u001b[0m\u001b[0;34m\u001b[0m\u001b[0;34m\u001b[0m\u001b[0m\n\u001b[1;32m    234\u001b[0m                 \u001b[0;32mraise\u001b[0m \u001b[0mWMLClientError\u001b[0m\u001b[0;34m(\u001b[0m\u001b[0;34m'apikey for IAM token is not provided in credentials for the client.'\u001b[0m\u001b[0;34m)\u001b[0m\u001b[0;34m\u001b[0m\u001b[0;34m\u001b[0m\u001b[0m\n",
            "\u001b[0;32m/usr/local/lib/python3.7/dist-packages/ibm_watson_machine_learning/instance_new_plan.py\u001b[0m in \u001b[0;36m_get_IAM_token\u001b[0;34m(self)\u001b[0m\n\u001b[1;32m    283\u001b[0m             \u001b[0mself\u001b[0m\u001b[0;34m.\u001b[0m\u001b[0m_expiration_datetime\u001b[0m \u001b[0;34m=\u001b[0m \u001b[0;32mNone\u001b[0m\u001b[0;34m\u001b[0m\u001b[0;34m\u001b[0m\u001b[0m\n\u001b[1;32m    284\u001b[0m         \u001b[0;32melse\u001b[0m\u001b[0;34m:\u001b[0m\u001b[0;34m\u001b[0m\u001b[0;34m\u001b[0m\u001b[0m\n\u001b[0;32m--> 285\u001b[0;31m             \u001b[0;32mraise\u001b[0m \u001b[0mWMLClientError\u001b[0m\u001b[0;34m(\u001b[0m\u001b[0;34mu'Error getting IAM Token.'\u001b[0m\u001b[0;34m,\u001b[0m \u001b[0mresponse\u001b[0m\u001b[0;34m)\u001b[0m\u001b[0;34m\u001b[0m\u001b[0;34m\u001b[0m\u001b[0m\n\u001b[0m\u001b[1;32m    286\u001b[0m         \u001b[0;32mreturn\u001b[0m \u001b[0mtoken\u001b[0m\u001b[0;34m\u001b[0m\u001b[0;34m\u001b[0m\u001b[0m\n\u001b[1;32m    287\u001b[0m \u001b[0;34m\u001b[0m\u001b[0m\n",
            "\u001b[0;31mWMLClientError\u001b[0m: Error getting IAM Token.\nReason: <Response [400]>"
          ]
        }
      ]
    },
    {
      "cell_type": "markdown",
      "metadata": {
        "id": "E9voolr4xGON"
      },
      "source": [
        "Crie um espaço para salvar o seu modelo. Você pode criá-lo aqui: https://dataplatform.cloud.ibm.com/ml-runtime/spaces?context=cpdaas\n",
        "\n",
        "Quando criar o seu espaço, associe a instância do seu serviço WML ao espaço! Sem associar, você não conseguirá efetuar o deploy."
      ]
    },
    {
      "cell_type": "code",
      "metadata": {
        "colab": {
          "base_uri": "https://localhost:8080/",
          "height": 180
        },
        "id": "cka6EnOzxHNN",
        "outputId": "648bc881-072e-4edd-b3a2-a2aa8035805a"
      },
      "source": [
        "# Listar espaços criados na sua instância de WML\n",
        "client.spaces.list(limit=10)"
      ],
      "execution_count": 31,
      "outputs": [
        {
          "output_type": "error",
          "ename": "NameError",
          "evalue": "ignored",
          "traceback": [
            "\u001b[0;31m---------------------------------------------------------------------------\u001b[0m",
            "\u001b[0;31mNameError\u001b[0m                                 Traceback (most recent call last)",
            "\u001b[0;32m<ipython-input-31-29e2d32a2a99>\u001b[0m in \u001b[0;36m<module>\u001b[0;34m()\u001b[0m\n\u001b[1;32m      1\u001b[0m \u001b[0;31m# Listar espaços criados na sua instância de WML\u001b[0m\u001b[0;34m\u001b[0m\u001b[0;34m\u001b[0m\u001b[0;34m\u001b[0m\u001b[0m\n\u001b[0;32m----> 2\u001b[0;31m \u001b[0mclient\u001b[0m\u001b[0;34m.\u001b[0m\u001b[0mspaces\u001b[0m\u001b[0;34m.\u001b[0m\u001b[0mlist\u001b[0m\u001b[0;34m(\u001b[0m\u001b[0mlimit\u001b[0m\u001b[0;34m=\u001b[0m\u001b[0;36m10\u001b[0m\u001b[0;34m)\u001b[0m\u001b[0;34m\u001b[0m\u001b[0;34m\u001b[0m\u001b[0m\n\u001b[0m",
            "\u001b[0;31mNameError\u001b[0m: name 'client' is not defined"
          ]
        }
      ]
    },
    {
      "cell_type": "markdown",
      "metadata": {
        "id": "o0wy8Y1qxNKd"
      },
      "source": [
        "Copie o ID do seu espaço criado para o desafio e cole-o abaixo para utilizá-lo. Você deverá ver a mensagem 'SUCCESS' se o espaço estiver corretamente configurado."
      ]
    },
    {
      "cell_type": "code",
      "metadata": {
        "colab": {
          "base_uri": "https://localhost:8080/",
          "height": 180
        },
        "id": "C-Pq92H-xPDt",
        "outputId": "b280bcb6-3f39-4e86-878d-67aef8c7e950"
      },
      "source": [
        "space_id = 'cole aqui'\n",
        "client.set.default_space(space_id)"
      ],
      "execution_count": 32,
      "outputs": [
        {
          "output_type": "error",
          "ename": "NameError",
          "evalue": "ignored",
          "traceback": [
            "\u001b[0;31m---------------------------------------------------------------------------\u001b[0m",
            "\u001b[0;31mNameError\u001b[0m                                 Traceback (most recent call last)",
            "\u001b[0;32m<ipython-input-32-c4ad99335109>\u001b[0m in \u001b[0;36m<module>\u001b[0;34m()\u001b[0m\n\u001b[1;32m      1\u001b[0m \u001b[0mspace_id\u001b[0m \u001b[0;34m=\u001b[0m \u001b[0;34m'cole aqui'\u001b[0m\u001b[0;34m\u001b[0m\u001b[0;34m\u001b[0m\u001b[0m\n\u001b[0;32m----> 2\u001b[0;31m \u001b[0mclient\u001b[0m\u001b[0;34m.\u001b[0m\u001b[0mset\u001b[0m\u001b[0;34m.\u001b[0m\u001b[0mdefault_space\u001b[0m\u001b[0;34m(\u001b[0m\u001b[0mspace_id\u001b[0m\u001b[0;34m)\u001b[0m\u001b[0;34m\u001b[0m\u001b[0;34m\u001b[0m\u001b[0m\n\u001b[0m",
            "\u001b[0;31mNameError\u001b[0m: name 'client' is not defined"
          ]
        }
      ]
    },
    {
      "cell_type": "markdown",
      "metadata": {
        "id": "1_PXx1-7xUN1"
      },
      "source": [
        "**Utilização da Pipeline dentro do Watson Machine Learning (WML)**\n",
        "\n",
        "Para utilizar uma Pipeline no WML com transformadores customizados, são necessários alguns passos adicionais:\n",
        "\n",
        "1- Criar um pacote no Python contendo o transformador customizado;\n",
        "\n",
        "2- Carregar esse pacote com o transformador em um repositório no WML;\n",
        "\n",
        "3- Criar uma especificação de software, com esse pacote customizado, que vai ser utilizada como tempo de execução do modelo no WML.\n",
        "\n",
        "Como exemplo, vamos utilizar um pacote já pronto, disponível aqui: https://github.com/vnderlev/watson-sklearn-transforms. Para configurar o pacote Python, são necessários alguns outros arquivos, mas a lógica do transformador criado se encontra neste arquivo. No caso, esse é o mesmo transformador que definimos aqui, ele vai excluir do conjunto de dados as colunas passadas como parâmetro na sua inicialização.\n",
        "\n",
        "Abaixo, vamos baixar esse pacote do GitHub e instalá-lo no Python."
      ]
    },
    {
      "cell_type": "code",
      "metadata": {
        "colab": {
          "base_uri": "https://localhost:8080/"
        },
        "id": "e18OW6nFxsUd",
        "outputId": "cce2691e-eabd-43fb-8fdb-c25a4965ef7b"
      },
      "source": [
        "!rm -rf watson-sklearn-transforms # Remover a pasta caso já exista\n",
        "!git clone https://github.com/vnderlev/watson-sklearn-transforms # Clonar o repositório com o pacote\n",
        "!zip -r drop-columns.zip watson-sklearn-transforms # Zipar o pacote\n",
        "!pip install drop-columns.zip # Instalar o pacote zipado"
      ],
      "execution_count": 33,
      "outputs": [
        {
          "output_type": "stream",
          "name": "stdout",
          "text": [
            "Cloning into 'watson-sklearn-transforms'...\n",
            "remote: Enumerating objects: 59, done.\u001b[K\n",
            "remote: Total 59 (delta 0), reused 0 (delta 0), pack-reused 59\u001b[K\n",
            "Unpacking objects: 100% (59/59), done.\n",
            "  adding: watson-sklearn-transforms/ (stored 0%)\n",
            "  adding: watson-sklearn-transforms/my_custom_sklearn_transforms/ (stored 0%)\n",
            "  adding: watson-sklearn-transforms/my_custom_sklearn_transforms/__init__.py (stored 0%)\n",
            "  adding: watson-sklearn-transforms/my_custom_sklearn_transforms/sklearn_transformers.py (deflated 46%)\n",
            "  adding: watson-sklearn-transforms/setup.py (deflated 46%)\n",
            "  adding: watson-sklearn-transforms/my_custom_sklearn_transforms.egg-info/ (stored 0%)\n",
            "  adding: watson-sklearn-transforms/my_custom_sklearn_transforms.egg-info/top_level.txt (stored 0%)\n",
            "  adding: watson-sklearn-transforms/my_custom_sklearn_transforms.egg-info/not-zip-safe (stored 0%)\n",
            "  adding: watson-sklearn-transforms/my_custom_sklearn_transforms.egg-info/dependency_links.txt (stored 0%)\n",
            "  adding: watson-sklearn-transforms/my_custom_sklearn_transforms.egg-info/PKG-INFO (deflated 33%)\n",
            "  adding: watson-sklearn-transforms/my_custom_sklearn_transforms.egg-info/SOURCES.txt (deflated 48%)\n",
            "  adding: watson-sklearn-transforms/PKG-INFO (deflated 31%)\n",
            "  adding: watson-sklearn-transforms/setup.cfg (deflated 16%)\n",
            "  adding: watson-sklearn-transforms/.git/ (stored 0%)\n",
            "  adding: watson-sklearn-transforms/.git/refs/ (stored 0%)\n",
            "  adding: watson-sklearn-transforms/.git/refs/remotes/ (stored 0%)\n",
            "  adding: watson-sklearn-transforms/.git/refs/remotes/origin/ (stored 0%)\n",
            "  adding: watson-sklearn-transforms/.git/refs/remotes/origin/HEAD (stored 0%)\n",
            "  adding: watson-sklearn-transforms/.git/refs/tags/ (stored 0%)\n",
            "  adding: watson-sklearn-transforms/.git/refs/heads/ (stored 0%)\n",
            "  adding: watson-sklearn-transforms/.git/refs/heads/master (stored 0%)\n",
            "  adding: watson-sklearn-transforms/.git/branches/ (stored 0%)\n",
            "  adding: watson-sklearn-transforms/.git/HEAD (stored 0%)\n",
            "  adding: watson-sklearn-transforms/.git/index (deflated 52%)\n",
            "  adding: watson-sklearn-transforms/.git/logs/ (stored 0%)\n",
            "  adding: watson-sklearn-transforms/.git/logs/refs/ (stored 0%)\n",
            "  adding: watson-sklearn-transforms/.git/logs/refs/remotes/ (stored 0%)\n",
            "  adding: watson-sklearn-transforms/.git/logs/refs/remotes/origin/ (stored 0%)\n",
            "  adding: watson-sklearn-transforms/.git/logs/refs/remotes/origin/HEAD (deflated 29%)\n",
            "  adding: watson-sklearn-transforms/.git/logs/refs/heads/ (stored 0%)\n",
            "  adding: watson-sklearn-transforms/.git/logs/refs/heads/master (deflated 29%)\n",
            "  adding: watson-sklearn-transforms/.git/logs/HEAD (deflated 29%)\n",
            "  adding: watson-sklearn-transforms/.git/packed-refs (deflated 11%)\n",
            "  adding: watson-sklearn-transforms/.git/description (deflated 14%)\n",
            "  adding: watson-sklearn-transforms/.git/info/ (stored 0%)\n",
            "  adding: watson-sklearn-transforms/.git/info/exclude (deflated 28%)\n",
            "  adding: watson-sklearn-transforms/.git/objects/ (stored 0%)\n",
            "  adding: watson-sklearn-transforms/.git/objects/e8/ (stored 0%)\n",
            "  adding: watson-sklearn-transforms/.git/objects/e8/8e9a7c9bc5a570d097ba4001ea0c327cba6f0a (stored 0%)\n",
            "  adding: watson-sklearn-transforms/.git/objects/a0/ (stored 0%)\n",
            "  adding: watson-sklearn-transforms/.git/objects/a0/3066ce73d15efd1cc6449dea7e2b678089edd6 (stored 0%)\n",
            "  adding: watson-sklearn-transforms/.git/objects/1c/ (stored 0%)\n",
            "  adding: watson-sklearn-transforms/.git/objects/1c/49d4656922fe1182c905339ec7a468e6881d99 (stored 0%)\n",
            "  adding: watson-sklearn-transforms/.git/objects/aa/ (stored 0%)\n",
            "  adding: watson-sklearn-transforms/.git/objects/aa/1db9544c86800c5018cb8f28d1e74fbd192991 (stored 0%)\n",
            "  adding: watson-sklearn-transforms/.git/objects/f9/ (stored 0%)\n",
            "  adding: watson-sklearn-transforms/.git/objects/f9/842759dbd395649399f47479175e044b6b40ae (stored 0%)\n",
            "  adding: watson-sklearn-transforms/.git/objects/f2/ (stored 0%)\n",
            "  adding: watson-sklearn-transforms/.git/objects/f2/598626ccd27c586d5b759e5186abc64c058912 (stored 0%)\n",
            "  adding: watson-sklearn-transforms/.git/objects/d7/ (stored 0%)\n",
            "  adding: watson-sklearn-transforms/.git/objects/d7/cfed1a9cf21930beb933ecafb2e3d4d3a77874 (stored 0%)\n",
            "  adding: watson-sklearn-transforms/.git/objects/6a/ (stored 0%)\n",
            "  adding: watson-sklearn-transforms/.git/objects/6a/3c980900b1ce8383ed0fd1cbcb9195d582cf4e (stored 0%)\n",
            "  adding: watson-sklearn-transforms/.git/objects/82/ (stored 0%)\n",
            "  adding: watson-sklearn-transforms/.git/objects/82/e0b0b52c39cd1840e7853e6d00986fae5683f4 (stored 0%)\n",
            "  adding: watson-sklearn-transforms/.git/objects/pack/ (stored 0%)\n",
            "  adding: watson-sklearn-transforms/.git/objects/1e/ (stored 0%)\n",
            "  adding: watson-sklearn-transforms/.git/objects/1e/1e45038dfc30ed50e6d081ec85e8a3fdfb8913 (stored 0%)\n",
            "  adding: watson-sklearn-transforms/.git/objects/d0/ (stored 0%)\n",
            "  adding: watson-sklearn-transforms/.git/objects/d0/4d8adf3dbf886c5799f7f367168b0785f0a4f5 (stored 0%)\n",
            "  adding: watson-sklearn-transforms/.git/objects/2f/ (stored 0%)\n",
            "  adding: watson-sklearn-transforms/.git/objects/2f/ab3357d7d157a7a6bbda08aad6cf19970d2cc3 (stored 0%)\n",
            "  adding: watson-sklearn-transforms/.git/objects/99/ (stored 0%)\n",
            "  adding: watson-sklearn-transforms/.git/objects/99/bde3a281e0a208866b47dcde00a4e4cd8afca0 (stored 0%)\n",
            "  adding: watson-sklearn-transforms/.git/objects/cb/ (stored 0%)\n",
            "  adding: watson-sklearn-transforms/.git/objects/cb/d827fdd178a26f42d8b01c58320b03f3eae7fa (stored 0%)\n",
            "  adding: watson-sklearn-transforms/.git/objects/26/ (stored 0%)\n",
            "  adding: watson-sklearn-transforms/.git/objects/26/3abe321ee224139817e2325d5c91ac8f0eed50 (stored 0%)\n",
            "  adding: watson-sklearn-transforms/.git/objects/7e/ (stored 0%)\n",
            "  adding: watson-sklearn-transforms/.git/objects/7e/ae3d08dc940e367e3c1e2ac7a35a8b00df2e12 (stored 0%)\n",
            "  adding: watson-sklearn-transforms/.git/objects/54/ (stored 0%)\n",
            "  adding: watson-sklearn-transforms/.git/objects/54/5d0fb908f733cd9eed69b0004a2dfeb33b5c48 (stored 0%)\n",
            "  adding: watson-sklearn-transforms/.git/objects/54/a860e717a464beb16bcb21419ab86f8351fbf0 (stored 0%)\n",
            "  adding: watson-sklearn-transforms/.git/objects/58/ (stored 0%)\n",
            "  adding: watson-sklearn-transforms/.git/objects/58/25ba31fa0c00d63a9dc9865e0c848442a6fbcd (stored 0%)\n",
            "  adding: watson-sklearn-transforms/.git/objects/c3/ (stored 0%)\n",
            "  adding: watson-sklearn-transforms/.git/objects/c3/9f70251de841c8e55e9c58d2fa7dbbe2d2fb0f (stored 0%)\n",
            "  adding: watson-sklearn-transforms/.git/objects/29/ (stored 0%)\n",
            "  adding: watson-sklearn-transforms/.git/objects/29/c65b6319ccd5b1c7da36655bb0c44e09fff991 (stored 0%)\n",
            "  adding: watson-sklearn-transforms/.git/objects/29/ffc1c2af8fa4b0ef5eef0ba4fdc441915d1a91 (stored 0%)\n",
            "  adding: watson-sklearn-transforms/.git/objects/85/ (stored 0%)\n",
            "  adding: watson-sklearn-transforms/.git/objects/85/bd34a4ae5f5c965a082a26b38a3268a662ae2b (stored 0%)\n",
            "  adding: watson-sklearn-transforms/.git/objects/b6/ (stored 0%)\n",
            "  adding: watson-sklearn-transforms/.git/objects/b6/979f3149443c66198e505c1e761f2766b4ea35 (stored 0%)\n",
            "  adding: watson-sklearn-transforms/.git/objects/5a/ (stored 0%)\n",
            "  adding: watson-sklearn-transforms/.git/objects/5a/b47e5cada9bcefbd66782d50edf2a86005dcb5 (stored 0%)\n",
            "  adding: watson-sklearn-transforms/.git/objects/52/ (stored 0%)\n",
            "  adding: watson-sklearn-transforms/.git/objects/52/6fb1c4f5a0d3a2482041c7bd3f15263837acf5 (stored 0%)\n",
            "  adding: watson-sklearn-transforms/.git/objects/da/ (stored 0%)\n",
            "  adding: watson-sklearn-transforms/.git/objects/da/64b79708ea475e8c6b484d837676ce91d9801e (stored 0%)\n",
            "  adding: watson-sklearn-transforms/.git/objects/22/ (stored 0%)\n",
            "  adding: watson-sklearn-transforms/.git/objects/22/2e658014f5f2a43e16ce3c5e896e00fef1f3d5 (stored 0%)\n",
            "  adding: watson-sklearn-transforms/.git/objects/24/ (stored 0%)\n",
            "  adding: watson-sklearn-transforms/.git/objects/24/7b371c9092731e07412dc5286126ed3a18756a (stored 0%)\n",
            "  adding: watson-sklearn-transforms/.git/objects/77/ (stored 0%)\n",
            "  adding: watson-sklearn-transforms/.git/objects/77/7798a7cedea3a2fddef8dd0b7691c9b1f9f97b (stored 0%)\n",
            "  adding: watson-sklearn-transforms/.git/objects/80/ (stored 0%)\n",
            "  adding: watson-sklearn-transforms/.git/objects/80/b20e55b5f52a87b7769e08df221e07d9cc0f3a (stored 0%)\n",
            "  adding: watson-sklearn-transforms/.git/objects/21/ (stored 0%)\n",
            "  adding: watson-sklearn-transforms/.git/objects/21/64a6e4b4ca3afc26c4b21982d433c8c54039a1 (stored 0%)\n",
            "  adding: watson-sklearn-transforms/.git/objects/cc/ (stored 0%)\n",
            "  adding: watson-sklearn-transforms/.git/objects/cc/fdab500390127d0490aaf9ee369565b05c41b4 (stored 0%)\n",
            "  adding: watson-sklearn-transforms/.git/objects/05/ (stored 0%)\n",
            "  adding: watson-sklearn-transforms/.git/objects/05/6cab60f81eb62f20ffd3cab59b6d232f0188e9 (stored 0%)\n",
            "  adding: watson-sklearn-transforms/.git/objects/info/ (stored 0%)\n",
            "  adding: watson-sklearn-transforms/.git/objects/46/ (stored 0%)\n",
            "  adding: watson-sklearn-transforms/.git/objects/46/862abd9b50e51c99a1f65be820af360594f8c2 (stored 0%)\n",
            "  adding: watson-sklearn-transforms/.git/objects/af/ (stored 0%)\n",
            "  adding: watson-sklearn-transforms/.git/objects/af/1140cfcb4e33bc03d9b067c1f7d70147d043d7 (stored 0%)\n",
            "  adding: watson-sklearn-transforms/.git/objects/c0/ (stored 0%)\n",
            "  adding: watson-sklearn-transforms/.git/objects/c0/e12da6a090fe6b2740d0cbfa7119915a00a643 (stored 0%)\n",
            "  adding: watson-sklearn-transforms/.git/objects/8c/ (stored 0%)\n",
            "  adding: watson-sklearn-transforms/.git/objects/8c/46dcca21d6dd2c23afb4a858d2b77d56bbf050 (stored 0%)\n",
            "  adding: watson-sklearn-transforms/.git/objects/8c/d09104c54f140d61a6e9fa6c2142d4565ee302 (stored 0%)\n",
            "  adding: watson-sklearn-transforms/.git/objects/1b/ (stored 0%)\n",
            "  adding: watson-sklearn-transforms/.git/objects/1b/9e7f9e69d0cac5283f551433cdaf8e65199698 (stored 0%)\n",
            "  adding: watson-sklearn-transforms/.git/objects/0e/ (stored 0%)\n",
            "  adding: watson-sklearn-transforms/.git/objects/0e/cc61a0a4baff0885426f45a8fcb9fbb78f8009 (stored 0%)\n",
            "  adding: watson-sklearn-transforms/.git/objects/2c/ (stored 0%)\n",
            "  adding: watson-sklearn-transforms/.git/objects/2c/de64a17098cba673b28c995910b268f5e34e7a (stored 0%)\n",
            "  adding: watson-sklearn-transforms/.git/objects/2c/c7a6bf2941a9d553a199a4fe658f0074a54b51 (stored 0%)\n",
            "  adding: watson-sklearn-transforms/.git/objects/bc/ (stored 0%)\n",
            "  adding: watson-sklearn-transforms/.git/objects/bc/bd8f17177cd1afe8396315d2039283fa993390 (stored 0%)\n",
            "  adding: watson-sklearn-transforms/.git/objects/bc/a817006f92d9e390374c1ed6467fad5ff7bab0 (stored 0%)\n",
            "  adding: watson-sklearn-transforms/.git/objects/06/ (stored 0%)\n",
            "  adding: watson-sklearn-transforms/.git/objects/06/998ae152d5b5fad89c81a6853dbbc0830fd6c7 (stored 0%)\n",
            "  adding: watson-sklearn-transforms/.git/objects/04/ (stored 0%)\n",
            "  adding: watson-sklearn-transforms/.git/objects/04/b1ff2d79c9b11a1d494b6f6d42acb629236af4 (stored 0%)\n",
            "  adding: watson-sklearn-transforms/.git/objects/61/ (stored 0%)\n",
            "  adding: watson-sklearn-transforms/.git/objects/61/e62b4f1623878ae0d92ffa812570be417feb82 (stored 0%)\n",
            "  adding: watson-sklearn-transforms/.git/objects/c4/ (stored 0%)\n",
            "  adding: watson-sklearn-transforms/.git/objects/c4/b90bb9bfb2674c96e6d8aa6cc3c8e58194f953 (stored 0%)\n",
            "  adding: watson-sklearn-transforms/.git/objects/7b/ (stored 0%)\n",
            "  adding: watson-sklearn-transforms/.git/objects/7b/04014fbd820cb0146dcec7965f01f304436510 (stored 0%)\n",
            "  adding: watson-sklearn-transforms/.git/objects/9b/ (stored 0%)\n",
            "  adding: watson-sklearn-transforms/.git/objects/9b/9fe6ce4d68c31dfc1eb7e923e5c90b0595b24d (stored 0%)\n",
            "  adding: watson-sklearn-transforms/.git/objects/ee/ (stored 0%)\n",
            "  adding: watson-sklearn-transforms/.git/objects/ee/96aaec3459bae7b27b49e17f867db49c3257a8 (stored 0%)\n",
            "  adding: watson-sklearn-transforms/.git/objects/c6/ (stored 0%)\n",
            "  adding: watson-sklearn-transforms/.git/objects/c6/4e501fc43c00861aa7ccae744058ba87c304fd (stored 0%)\n",
            "  adding: watson-sklearn-transforms/.git/objects/e6/ (stored 0%)\n",
            "  adding: watson-sklearn-transforms/.git/objects/e6/9de29bb2d1d6434b8b29ae775ad8c2e48c5391 (stored 0%)\n",
            "  adding: watson-sklearn-transforms/.git/objects/8b/ (stored 0%)\n",
            "  adding: watson-sklearn-transforms/.git/objects/8b/137891791fe96927ad78e64b0aad7bded08bdc (stored 0%)\n",
            "  adding: watson-sklearn-transforms/.git/objects/d3/ (stored 0%)\n",
            "  adding: watson-sklearn-transforms/.git/objects/d3/697484c118054fc68a13eaac93c2f93536b77e (stored 0%)\n",
            "  adding: watson-sklearn-transforms/.git/objects/39/ (stored 0%)\n",
            "  adding: watson-sklearn-transforms/.git/objects/39/ccfbaf81e116c9eb9781c7cd0b7acdd5ad10aa (stored 0%)\n",
            "  adding: watson-sklearn-transforms/.git/objects/39/d4d3fd1cc23783dbadb2d673f3758863106854 (stored 0%)\n",
            "  adding: watson-sklearn-transforms/.git/objects/2e/ (stored 0%)\n",
            "  adding: watson-sklearn-transforms/.git/objects/2e/2e5168d3c37ccbaeb3b899da3f30fb6bc70031 (stored 0%)\n",
            "  adding: watson-sklearn-transforms/.git/config (deflated 34%)\n",
            "  adding: watson-sklearn-transforms/.git/hooks/ (stored 0%)\n",
            "  adding: watson-sklearn-transforms/.git/hooks/fsmonitor-watchman.sample (deflated 53%)\n",
            "  adding: watson-sklearn-transforms/.git/hooks/applypatch-msg.sample (deflated 42%)\n",
            "  adding: watson-sklearn-transforms/.git/hooks/pre-push.sample (deflated 50%)\n",
            "  adding: watson-sklearn-transforms/.git/hooks/pre-commit.sample (deflated 43%)\n",
            "  adding: watson-sklearn-transforms/.git/hooks/pre-receive.sample (deflated 40%)\n",
            "  adding: watson-sklearn-transforms/.git/hooks/post-update.sample (deflated 27%)\n",
            "  adding: watson-sklearn-transforms/.git/hooks/pre-rebase.sample (deflated 59%)\n",
            "  adding: watson-sklearn-transforms/.git/hooks/update.sample (deflated 68%)\n",
            "  adding: watson-sklearn-transforms/.git/hooks/commit-msg.sample (deflated 44%)\n",
            "  adding: watson-sklearn-transforms/.git/hooks/prepare-commit-msg.sample (deflated 50%)\n",
            "  adding: watson-sklearn-transforms/.git/hooks/pre-applypatch.sample (deflated 38%)\n",
            "  adding: watson-sklearn-transforms/README.md (deflated 15%)\n",
            "Processing ./drop-columns.zip\n",
            "Building wheels for collected packages: my-custom-sklearn-transforms\n",
            "  Building wheel for my-custom-sklearn-transforms (setup.py) ... \u001b[?25l\u001b[?25hdone\n",
            "  Created wheel for my-custom-sklearn-transforms: filename=my_custom_sklearn_transforms-1.0-py3-none-any.whl size=2047 sha256=a7ae78bb7775ad5fb1e8e0e35591c1ea4c5fff4dcadb248509afbd9be37e7771\n",
            "  Stored in directory: /root/.cache/pip/wheels/66/86/0f/608f4116bf8345bad40b839d8d5609190ec21a13714af2d990\n",
            "Successfully built my-custom-sklearn-transforms\n",
            "Installing collected packages: my-custom-sklearn-transforms\n",
            "Successfully installed my-custom-sklearn-transforms-1.0\n"
          ]
        }
      ]
    },
    {
      "cell_type": "markdown",
      "metadata": {
        "id": "9a45mKdrxx-U"
      },
      "source": [
        "Vamos agora recriar nossa Pipeline utilizando esse pacote instalado."
      ]
    },
    {
      "cell_type": "code",
      "metadata": {
        "id": "aHJbznyJxzBE"
      },
      "source": [
        "from my_custom_sklearn_transforms.sklearn_transformers import DropColumns\n",
        "\n",
        "drop_columns = DropColumns(unwanted_columns)\n",
        "\n",
        "pipeline = Pipeline(steps=[('drop_columns', drop_columns), ('classification', model)])"
      ],
      "execution_count": 34,
      "outputs": []
    },
    {
      "cell_type": "markdown",
      "metadata": {
        "id": "LxDWEKFux4Jz"
      },
      "source": [
        "Vamos agora subir o transformador customizado que baixamos para o WML."
      ]
    },
    {
      "cell_type": "code",
      "metadata": {
        "colab": {
          "base_uri": "https://localhost:8080/",
          "height": 231
        },
        "id": "9Mj9XnKNx8jk",
        "outputId": "3d6a2205-e7b7-4e41-b598-ffcccd81d57b"
      },
      "source": [
        "# Metadados para o pacote customizado\n",
        "meta_prop_pkg_extn = {\n",
        "    client.package_extensions.ConfigurationMetaNames.NAME: \"Drop_Columns\",\n",
        "    client.package_extensions.ConfigurationMetaNames.DESCRIPTION: \"Extensão para remover colunas\",\n",
        "    client.package_extensions.ConfigurationMetaNames.TYPE: \"pip_zip\"\n",
        "}\n",
        "\n",
        "# Subir o pacote\n",
        "pkg_extn_details = client.package_extensions.store(meta_props=meta_prop_pkg_extn, file_path=\"drop-columns.zip\")\n",
        "\n",
        "# Salvar as informações sobre o pacote\n",
        "pkg_extn_uid = client.package_extensions.get_uid(pkg_extn_details)\n",
        "pkg_extn_url = client.package_extensions.get_href(pkg_extn_details)"
      ],
      "execution_count": 35,
      "outputs": [
        {
          "output_type": "error",
          "ename": "NameError",
          "evalue": "ignored",
          "traceback": [
            "\u001b[0;31m---------------------------------------------------------------------------\u001b[0m",
            "\u001b[0;31mNameError\u001b[0m                                 Traceback (most recent call last)",
            "\u001b[0;32m<ipython-input-35-a712a85043fc>\u001b[0m in \u001b[0;36m<module>\u001b[0;34m()\u001b[0m\n\u001b[1;32m      1\u001b[0m \u001b[0;31m# Metadados para o pacote customizado\u001b[0m\u001b[0;34m\u001b[0m\u001b[0;34m\u001b[0m\u001b[0;34m\u001b[0m\u001b[0m\n\u001b[1;32m      2\u001b[0m meta_prop_pkg_extn = {\n\u001b[0;32m----> 3\u001b[0;31m     \u001b[0mclient\u001b[0m\u001b[0;34m.\u001b[0m\u001b[0mpackage_extensions\u001b[0m\u001b[0;34m.\u001b[0m\u001b[0mConfigurationMetaNames\u001b[0m\u001b[0;34m.\u001b[0m\u001b[0mNAME\u001b[0m\u001b[0;34m:\u001b[0m \u001b[0;34m\"Drop_Columns\"\u001b[0m\u001b[0;34m,\u001b[0m\u001b[0;34m\u001b[0m\u001b[0;34m\u001b[0m\u001b[0m\n\u001b[0m\u001b[1;32m      4\u001b[0m     \u001b[0mclient\u001b[0m\u001b[0;34m.\u001b[0m\u001b[0mpackage_extensions\u001b[0m\u001b[0;34m.\u001b[0m\u001b[0mConfigurationMetaNames\u001b[0m\u001b[0;34m.\u001b[0m\u001b[0mDESCRIPTION\u001b[0m\u001b[0;34m:\u001b[0m \u001b[0;34m\"Extensão para remover colunas\"\u001b[0m\u001b[0;34m,\u001b[0m\u001b[0;34m\u001b[0m\u001b[0;34m\u001b[0m\u001b[0m\n\u001b[1;32m      5\u001b[0m     \u001b[0mclient\u001b[0m\u001b[0;34m.\u001b[0m\u001b[0mpackage_extensions\u001b[0m\u001b[0;34m.\u001b[0m\u001b[0mConfigurationMetaNames\u001b[0m\u001b[0;34m.\u001b[0m\u001b[0mTYPE\u001b[0m\u001b[0;34m:\u001b[0m \u001b[0;34m\"pip_zip\"\u001b[0m\u001b[0;34m\u001b[0m\u001b[0;34m\u001b[0m\u001b[0m\n",
            "\u001b[0;31mNameError\u001b[0m: name 'client' is not defined"
          ]
        }
      ]
    },
    {
      "cell_type": "markdown",
      "metadata": {
        "id": "OZezu3tVyACk"
      },
      "source": [
        "Vamos agora criar uma especificação de software com o nosso pacote customizado, para que o WML possa utilizar. Caso estiver utilizando um software diferente de Python 3.8 ou biblioteca diferente de scikit-learn, você pode dar uma olhada na lista de especificações de software suportadas pelo WML: https://dataplatform.cloud.ibm.com/docs/content/wsj/wmls/wmls-deploy-python-types.html?context=analytics&audience=wdp"
      ]
    },
    {
      "cell_type": "code",
      "metadata": {
        "colab": {
          "base_uri": "https://localhost:8080/",
          "height": 214
        },
        "id": "_jskEBtnyBBE",
        "outputId": "8ad1e0cc-a391-45ed-bf1a-c523b2a21041"
      },
      "source": [
        "base_sw_spec_uid = client.software_specifications.get_uid_by_name(\"default_py3.8\")\n",
        "\n",
        "# Caso queira utilizar um software diferente de Python 3.8 como base, dê uma olhada nos disponíveis com a linha abaixo\n",
        "# client.software_specifications.list(limit=100)"
      ],
      "execution_count": 36,
      "outputs": [
        {
          "output_type": "error",
          "ename": "NameError",
          "evalue": "ignored",
          "traceback": [
            "\u001b[0;31m---------------------------------------------------------------------------\u001b[0m",
            "\u001b[0;31mNameError\u001b[0m                                 Traceback (most recent call last)",
            "\u001b[0;32m<ipython-input-36-8ea19f847eae>\u001b[0m in \u001b[0;36m<module>\u001b[0;34m()\u001b[0m\n\u001b[0;32m----> 1\u001b[0;31m \u001b[0mbase_sw_spec_uid\u001b[0m \u001b[0;34m=\u001b[0m \u001b[0mclient\u001b[0m\u001b[0;34m.\u001b[0m\u001b[0msoftware_specifications\u001b[0m\u001b[0;34m.\u001b[0m\u001b[0mget_uid_by_name\u001b[0m\u001b[0;34m(\u001b[0m\u001b[0;34m\"default_py3.8\"\u001b[0m\u001b[0;34m)\u001b[0m\u001b[0;34m\u001b[0m\u001b[0;34m\u001b[0m\u001b[0m\n\u001b[0m\u001b[1;32m      2\u001b[0m \u001b[0;34m\u001b[0m\u001b[0m\n\u001b[1;32m      3\u001b[0m \u001b[0;31m# Caso queira utilizar um software diferente de Python 3.8 como base, dê uma olhada nos disponíveis com a linha abaixo\u001b[0m\u001b[0;34m\u001b[0m\u001b[0;34m\u001b[0m\u001b[0;34m\u001b[0m\u001b[0m\n\u001b[1;32m      4\u001b[0m \u001b[0;31m# client.software_specifications.list(limit=100)\u001b[0m\u001b[0;34m\u001b[0m\u001b[0;34m\u001b[0m\u001b[0;34m\u001b[0m\u001b[0m\n",
            "\u001b[0;31mNameError\u001b[0m: name 'client' is not defined"
          ]
        }
      ]
    },
    {
      "cell_type": "code",
      "metadata": {
        "colab": {
          "base_uri": "https://localhost:8080/",
          "height": 231
        },
        "id": "n1wBupgSyGLE",
        "outputId": "bc0b1fb5-8eba-4fde-e815-7be65276625b"
      },
      "source": [
        "# Metadados da nova especificação de software\n",
        "meta_prop_sw_spec = {\n",
        "    client.software_specifications.ConfigurationMetaNames.NAME: \"sw_spec_drop_columns\",\n",
        "    client.software_specifications.ConfigurationMetaNames.DESCRIPTION: \"Software specification utilizando DropColumns\",\n",
        "    client.software_specifications.ConfigurationMetaNames.BASE_SOFTWARE_SPECIFICATION: {\"guid\": base_sw_spec_uid}\n",
        "}\n",
        "\n",
        "# Criando a nova especificação de software e obtendo seu ID\n",
        "sw_spec_details = client.software_specifications.store(meta_props=meta_prop_sw_spec)\n",
        "sw_spec_uid = client.software_specifications.get_uid(sw_spec_details)\n",
        "\n",
        "# Adicionando o pacote customizado à nova especificação\n",
        "client.software_specifications.add_package_extension(sw_spec_uid, pkg_extn_uid)"
      ],
      "execution_count": 37,
      "outputs": [
        {
          "output_type": "error",
          "ename": "NameError",
          "evalue": "ignored",
          "traceback": [
            "\u001b[0;31m---------------------------------------------------------------------------\u001b[0m",
            "\u001b[0;31mNameError\u001b[0m                                 Traceback (most recent call last)",
            "\u001b[0;32m<ipython-input-37-60cd820fb764>\u001b[0m in \u001b[0;36m<module>\u001b[0;34m()\u001b[0m\n\u001b[1;32m      1\u001b[0m \u001b[0;31m# Metadados da nova especificação de software\u001b[0m\u001b[0;34m\u001b[0m\u001b[0;34m\u001b[0m\u001b[0;34m\u001b[0m\u001b[0m\n\u001b[1;32m      2\u001b[0m meta_prop_sw_spec = {\n\u001b[0;32m----> 3\u001b[0;31m     \u001b[0mclient\u001b[0m\u001b[0;34m.\u001b[0m\u001b[0msoftware_specifications\u001b[0m\u001b[0;34m.\u001b[0m\u001b[0mConfigurationMetaNames\u001b[0m\u001b[0;34m.\u001b[0m\u001b[0mNAME\u001b[0m\u001b[0;34m:\u001b[0m \u001b[0;34m\"sw_spec_drop_columns\"\u001b[0m\u001b[0;34m,\u001b[0m\u001b[0;34m\u001b[0m\u001b[0;34m\u001b[0m\u001b[0m\n\u001b[0m\u001b[1;32m      4\u001b[0m     \u001b[0mclient\u001b[0m\u001b[0;34m.\u001b[0m\u001b[0msoftware_specifications\u001b[0m\u001b[0;34m.\u001b[0m\u001b[0mConfigurationMetaNames\u001b[0m\u001b[0;34m.\u001b[0m\u001b[0mDESCRIPTION\u001b[0m\u001b[0;34m:\u001b[0m \u001b[0;34m\"Software specification utilizando DropColumns\"\u001b[0m\u001b[0;34m,\u001b[0m\u001b[0;34m\u001b[0m\u001b[0;34m\u001b[0m\u001b[0m\n\u001b[1;32m      5\u001b[0m     \u001b[0mclient\u001b[0m\u001b[0;34m.\u001b[0m\u001b[0msoftware_specifications\u001b[0m\u001b[0;34m.\u001b[0m\u001b[0mConfigurationMetaNames\u001b[0m\u001b[0;34m.\u001b[0m\u001b[0mBASE_SOFTWARE_SPECIFICATION\u001b[0m\u001b[0;34m:\u001b[0m \u001b[0;34m{\u001b[0m\u001b[0;34m\"guid\"\u001b[0m\u001b[0;34m:\u001b[0m \u001b[0mbase_sw_spec_uid\u001b[0m\u001b[0;34m}\u001b[0m\u001b[0;34m\u001b[0m\u001b[0;34m\u001b[0m\u001b[0m\n",
            "\u001b[0;31mNameError\u001b[0m: name 'client' is not defined"
          ]
        }
      ]
    },
    {
      "cell_type": "markdown",
      "metadata": {
        "id": "EJCeP7jUyJAz"
      },
      "source": [
        "Finalmente, vamos publicar a pipeline utilizando a especificação de software customizada que criamos."
      ]
    },
    {
      "cell_type": "code",
      "metadata": {
        "colab": {
          "base_uri": "https://localhost:8080/",
          "height": 231
        },
        "id": "GtvuU085yKK8",
        "outputId": "bd7b4bc1-11ce-47ad-b703-f2508bb7970a"
      },
      "source": [
        "# Metadados do modelo\n",
        "model_props = {\n",
        "    client.repository.ModelMetaNames.NAME: \"Modelo com Pipeline customizada\",\n",
        "    client.repository.ModelMetaNames.TYPE: 'scikit-learn_0.23',\n",
        "    client.repository.ModelMetaNames.SOFTWARE_SPEC_UID: sw_spec_uid\n",
        "}\n",
        "\n",
        "# Publicando a Pipeline como um modelo\n",
        "published_model = client.repository.store_model(model=pipeline, meta_props=model_props)\n",
        "published_model_uid = client.repository.get_model_uid(published_model)\n",
        "client.repository.get_details(published_model_uid)"
      ],
      "execution_count": 38,
      "outputs": [
        {
          "output_type": "error",
          "ename": "NameError",
          "evalue": "ignored",
          "traceback": [
            "\u001b[0;31m---------------------------------------------------------------------------\u001b[0m",
            "\u001b[0;31mNameError\u001b[0m                                 Traceback (most recent call last)",
            "\u001b[0;32m<ipython-input-38-47f1c0da5fc1>\u001b[0m in \u001b[0;36m<module>\u001b[0;34m()\u001b[0m\n\u001b[1;32m      1\u001b[0m \u001b[0;31m# Metadados do modelo\u001b[0m\u001b[0;34m\u001b[0m\u001b[0;34m\u001b[0m\u001b[0;34m\u001b[0m\u001b[0m\n\u001b[1;32m      2\u001b[0m model_props = {\n\u001b[0;32m----> 3\u001b[0;31m     \u001b[0mclient\u001b[0m\u001b[0;34m.\u001b[0m\u001b[0mrepository\u001b[0m\u001b[0;34m.\u001b[0m\u001b[0mModelMetaNames\u001b[0m\u001b[0;34m.\u001b[0m\u001b[0mNAME\u001b[0m\u001b[0;34m:\u001b[0m \u001b[0;34m\"Modelo com Pipeline customizada\"\u001b[0m\u001b[0;34m,\u001b[0m\u001b[0;34m\u001b[0m\u001b[0;34m\u001b[0m\u001b[0m\n\u001b[0m\u001b[1;32m      4\u001b[0m     \u001b[0mclient\u001b[0m\u001b[0;34m.\u001b[0m\u001b[0mrepository\u001b[0m\u001b[0;34m.\u001b[0m\u001b[0mModelMetaNames\u001b[0m\u001b[0;34m.\u001b[0m\u001b[0mTYPE\u001b[0m\u001b[0;34m:\u001b[0m \u001b[0;34m'scikit-learn_0.23'\u001b[0m\u001b[0;34m,\u001b[0m\u001b[0;34m\u001b[0m\u001b[0;34m\u001b[0m\u001b[0m\n\u001b[1;32m      5\u001b[0m     \u001b[0mclient\u001b[0m\u001b[0;34m.\u001b[0m\u001b[0mrepository\u001b[0m\u001b[0;34m.\u001b[0m\u001b[0mModelMetaNames\u001b[0m\u001b[0;34m.\u001b[0m\u001b[0mSOFTWARE_SPEC_UID\u001b[0m\u001b[0;34m:\u001b[0m \u001b[0msw_spec_uid\u001b[0m\u001b[0;34m\u001b[0m\u001b[0;34m\u001b[0m\u001b[0m\n",
            "\u001b[0;31mNameError\u001b[0m: name 'client' is not defined"
          ]
        }
      ]
    },
    {
      "cell_type": "markdown",
      "metadata": {
        "id": "VAmI6DAhyN58"
      },
      "source": [
        "Seu modelo agora está salvo. Vamos agora deixá-lo disponível online, para que possamos testá-lo:"
      ]
    },
    {
      "cell_type": "code",
      "metadata": {
        "colab": {
          "base_uri": "https://localhost:8080/",
          "height": 231
        },
        "id": "WquezLL4yQRs",
        "outputId": "a23adfef-92dd-4b4b-a658-b8a77da2ad04"
      },
      "source": [
        "# Metadados para publicação do modelo\n",
        "metadata = {\n",
        "    client.deployments.ConfigurationMetaNames.NAME: \"Publicação do modelo customizado\",\n",
        "    client.deployments.ConfigurationMetaNames.ONLINE: {}\n",
        "}\n",
        "\n",
        "# Publicar\n",
        "created_deployment = client.deployments.create(published_model_uid, meta_props=metadata)"
      ],
      "execution_count": 39,
      "outputs": [
        {
          "output_type": "error",
          "ename": "NameError",
          "evalue": "ignored",
          "traceback": [
            "\u001b[0;31m---------------------------------------------------------------------------\u001b[0m",
            "\u001b[0;31mNameError\u001b[0m                                 Traceback (most recent call last)",
            "\u001b[0;32m<ipython-input-39-06d4deac775a>\u001b[0m in \u001b[0;36m<module>\u001b[0;34m()\u001b[0m\n\u001b[1;32m      1\u001b[0m \u001b[0;31m# Metadados para publicação do modelo\u001b[0m\u001b[0;34m\u001b[0m\u001b[0;34m\u001b[0m\u001b[0;34m\u001b[0m\u001b[0m\n\u001b[1;32m      2\u001b[0m metadata = {\n\u001b[0;32m----> 3\u001b[0;31m     \u001b[0mclient\u001b[0m\u001b[0;34m.\u001b[0m\u001b[0mdeployments\u001b[0m\u001b[0;34m.\u001b[0m\u001b[0mConfigurationMetaNames\u001b[0m\u001b[0;34m.\u001b[0m\u001b[0mNAME\u001b[0m\u001b[0;34m:\u001b[0m \u001b[0;34m\"Publicação do modelo customizado\"\u001b[0m\u001b[0;34m,\u001b[0m\u001b[0;34m\u001b[0m\u001b[0;34m\u001b[0m\u001b[0m\n\u001b[0m\u001b[1;32m      4\u001b[0m     \u001b[0mclient\u001b[0m\u001b[0;34m.\u001b[0m\u001b[0mdeployments\u001b[0m\u001b[0;34m.\u001b[0m\u001b[0mConfigurationMetaNames\u001b[0m\u001b[0;34m.\u001b[0m\u001b[0mONLINE\u001b[0m\u001b[0;34m:\u001b[0m \u001b[0;34m{\u001b[0m\u001b[0;34m}\u001b[0m\u001b[0;34m\u001b[0m\u001b[0;34m\u001b[0m\u001b[0m\n\u001b[1;32m      5\u001b[0m }\n",
            "\u001b[0;31mNameError\u001b[0m: name 'client' is not defined"
          ]
        }
      ]
    },
    {
      "cell_type": "markdown",
      "metadata": {
        "id": "dE0_qqnQyVB0"
      },
      "source": [
        "Parabéns!\n",
        "Seu modelo está agora publicado. Quando estiver pronto para submeter o desafio, você pode acessar https://maratona.dev/challenges/1, e utilizar as credenciais abaixo para realizar a submissão. Lembre-se de revisar todas as instruções no README antes de submeter!"
      ]
    },
    {
      "cell_type": "code",
      "metadata": {
        "colab": {
          "base_uri": "https://localhost:8080/",
          "height": 214
        },
        "id": "iJnwmgdgyV5E",
        "outputId": "751a0456-171f-42dd-b624-6bf4f4ec0f63"
      },
      "source": [
        "deployment_uid = client.deployments.get_uid(created_deployment)\n",
        "\n",
        "print(f\"Credenciais para envio (não compartilhe esses dados com ninguém!)\\n\\nAPI key: {api_key}\\nDeployment ID: {deployment_uid}\")\n",
        " "
      ],
      "execution_count": 40,
      "outputs": [
        {
          "output_type": "error",
          "ename": "NameError",
          "evalue": "ignored",
          "traceback": [
            "\u001b[0;31m---------------------------------------------------------------------------\u001b[0m",
            "\u001b[0;31mNameError\u001b[0m                                 Traceback (most recent call last)",
            "\u001b[0;32m<ipython-input-40-38433cefc6cf>\u001b[0m in \u001b[0;36m<module>\u001b[0;34m()\u001b[0m\n\u001b[0;32m----> 1\u001b[0;31m \u001b[0mdeployment_uid\u001b[0m \u001b[0;34m=\u001b[0m \u001b[0mclient\u001b[0m\u001b[0;34m.\u001b[0m\u001b[0mdeployments\u001b[0m\u001b[0;34m.\u001b[0m\u001b[0mget_uid\u001b[0m\u001b[0;34m(\u001b[0m\u001b[0mcreated_deployment\u001b[0m\u001b[0;34m)\u001b[0m\u001b[0;34m\u001b[0m\u001b[0;34m\u001b[0m\u001b[0m\n\u001b[0m\u001b[1;32m      2\u001b[0m \u001b[0;34m\u001b[0m\u001b[0m\n\u001b[1;32m      3\u001b[0m \u001b[0mprint\u001b[0m\u001b[0;34m(\u001b[0m\u001b[0;34mf\"Credenciais para envio (não compartilhe esses dados com ninguém!)\\n\\nAPI key: {api_key}\\nDeployment ID: {deployment_uid}\"\u001b[0m\u001b[0;34m)\u001b[0m\u001b[0;34m\u001b[0m\u001b[0;34m\u001b[0m\u001b[0m\n\u001b[1;32m      4\u001b[0m \u001b[0;34m\u001b[0m\u001b[0m\n",
            "\u001b[0;31mNameError\u001b[0m: name 'client' is not defined"
          ]
        }
      ]
    }
  ]
}